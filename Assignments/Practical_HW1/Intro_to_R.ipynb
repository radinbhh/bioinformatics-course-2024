{
  "cells": [
    {
      "cell_type": "markdown",
      "metadata": {
        "id": "Tk5yZsGkFLQb"
      },
      "source": [
        "# **📘 Intro_to_R – Student Version (R Kernel)**\n",
        "\n",
        "\n",
        "\n",
        "**📌 How to use this notebook**\n",
        "\n",
        "\n",
        "\n",
        "*   Read each markdown cell first.\n",
        "*   Write your code only between # STUDENT START and # STUDENT END.\n",
        "*   You may run cells multiple times.\n",
        "*   You can add extra print() to inspect objects.\n",
        "\n",
        "\n",
        "\n",
        "\n",
        "\n",
        "\n",
        "\n",
        "\n"
      ]
    },
    {
      "cell_type": "markdown",
      "metadata": {
        "id": "ibq6vHdZ_O1i"
      },
      "source": [
        "Student name: Radin Baharsefat\n",
        "\n",
        "Student number: 402105762"
      ]
    },
    {
      "cell_type": "markdown",
      "metadata": {
        "id": "v3Xms2Z_FhAz"
      },
      "source": [
        "# **🧭 PART 1 — Getting Started with R**\n",
        "\n",
        "Get comfortable with assigning variables, printing, and comments."
      ]
    },
    {
      "cell_type": "code",
      "execution_count": 86,
      "metadata": {
        "id": "FE-YPJdVFg0C",
        "vscode": {
          "languageId": "r"
        }
      },
      "outputs": [
        {
          "name": "stdout",
          "output_type": "stream",
          "text": [
            "[1] 5\n",
            "[1] 10\n"
          ]
        },
        {
          "data": {
            "text/html": [
              "15"
            ],
            "text/latex": [
              "15"
            ],
            "text/markdown": [
              "15"
            ],
            "text/plain": [
              "[1] 15"
            ]
          },
          "metadata": {},
          "output_type": "display_data"
        },
        {
          "data": {
            "text/html": [
              "50"
            ],
            "text/latex": [
              "50"
            ],
            "text/markdown": [
              "50"
            ],
            "text/plain": [
              "[1] 50"
            ]
          },
          "metadata": {},
          "output_type": "display_data"
        }
      ],
      "source": [
        "# Example: assignment and printing\n",
        "x <- 5     # assign value 5 to x\n",
        "y <- 10    # assign value 10 to y\n",
        "\n",
        "# print values\n",
        "print(x)\n",
        "print(y)\n",
        "\n",
        "# simple arithmetic\n",
        "x + y\n",
        "x * y"
      ]
    },
    {
      "cell_type": "markdown",
      "metadata": {
        "id": "svs8vv93FyGT"
      },
      "source": [
        "**Create two variables a and b,** then:\n",
        "\n",
        "\n",
        "\n",
        "*   print their sum,\n",
        "*   print their product,\n",
        "*   print a to the power of b.\n",
        "\n",
        "\n",
        "\n",
        "\n",
        "\n",
        "\n",
        "\n",
        "\n"
      ]
    },
    {
      "cell_type": "code",
      "execution_count": 87,
      "metadata": {
        "id": "JRUUGSneE258",
        "vscode": {
          "languageId": "r"
        }
      },
      "outputs": [
        {
          "name": "stdout",
          "output_type": "stream",
          "text": [
            "[1] 13\n",
            "[1] 1000\n"
          ]
        }
      ],
      "source": [
        "a <- 10\n",
        "b <- 3\n",
        "\n",
        "print(a+b)\n",
        "print(a**b)"
      ]
    },
    {
      "cell_type": "markdown",
      "metadata": {
        "id": "IiIzRK7HGAiQ"
      },
      "source": [
        "# **🔢 PART 2 — Data Types & Variables**\n",
        "\n",
        "Understand basic types: numeric, character (string), logical (TRUE/FALSE)."
      ]
    },
    {
      "cell_type": "code",
      "execution_count": 88,
      "metadata": {
        "id": "ctKSbEt1GDlP",
        "vscode": {
          "languageId": "r"
        }
      },
      "outputs": [
        {
          "data": {
            "text/html": [
              "'numeric'"
            ],
            "text/latex": [
              "'numeric'"
            ],
            "text/markdown": [
              "'numeric'"
            ],
            "text/plain": [
              "[1] \"numeric\""
            ]
          },
          "metadata": {},
          "output_type": "display_data"
        },
        {
          "data": {
            "text/html": [
              "'character'"
            ],
            "text/latex": [
              "'character'"
            ],
            "text/markdown": [
              "'character'"
            ],
            "text/plain": [
              "[1] \"character\""
            ]
          },
          "metadata": {},
          "output_type": "display_data"
        },
        {
          "data": {
            "text/html": [
              "'logical'"
            ],
            "text/latex": [
              "'logical'"
            ],
            "text/markdown": [
              "'logical'"
            ],
            "text/plain": [
              "[1] \"logical\""
            ]
          },
          "metadata": {},
          "output_type": "display_data"
        }
      ],
      "source": [
        "# Examples\n",
        "num_val <- 3.14        # numeric\n",
        "char_val <- \"BRCA1\"    # character\n",
        "log_val <- TRUE        # logical\n",
        "\n",
        "class(num_val)\n",
        "class(char_val)\n",
        "class(log_val)\n"
      ]
    },
    {
      "cell_type": "markdown",
      "metadata": {
        "id": "M2LtBDu9GKDZ"
      },
      "source": [
        "Create age <- 21 (numeric), gene <- \"TP53\" (character), flag <- FALSE (logical).\n",
        "\n",
        "Use class() to check their types."
      ]
    },
    {
      "cell_type": "code",
      "execution_count": 89,
      "metadata": {
        "id": "Hfad8F53Gdxe",
        "vscode": {
          "languageId": "r"
        }
      },
      "outputs": [
        {
          "data": {
            "text/html": [
              "'numeric'"
            ],
            "text/latex": [
              "'numeric'"
            ],
            "text/markdown": [
              "'numeric'"
            ],
            "text/plain": [
              "[1] \"numeric\""
            ]
          },
          "metadata": {},
          "output_type": "display_data"
        },
        {
          "data": {
            "text/html": [
              "'character'"
            ],
            "text/latex": [
              "'character'"
            ],
            "text/markdown": [
              "'character'"
            ],
            "text/plain": [
              "[1] \"character\""
            ]
          },
          "metadata": {},
          "output_type": "display_data"
        },
        {
          "data": {
            "text/html": [
              "'logical'"
            ],
            "text/latex": [
              "'logical'"
            ],
            "text/markdown": [
              "'logical'"
            ],
            "text/plain": [
              "[1] \"logical\""
            ]
          },
          "metadata": {},
          "output_type": "display_data"
        }
      ],
      "source": [
        "age <- 21\n",
        "gene <- \"TP53\"\n",
        "flag <- FALSE\n",
        "class(age)\n",
        "class(gene)\n",
        "class(flag)\n"
      ]
    },
    {
      "cell_type": "markdown",
      "metadata": {
        "id": "0By-i-2kGmRB"
      },
      "source": [
        "# **📦 PART 3 — Vectors & Lists**\n",
        "\n",
        "Vectors: ordered collection of same type.\n",
        "\n",
        "Lists: can hold mixed types."
      ]
    },
    {
      "cell_type": "code",
      "execution_count": 90,
      "metadata": {
        "id": "zHAM0p53Gnuz",
        "vscode": {
          "languageId": "r"
        }
      },
      "outputs": [
        {
          "data": {
            "text/html": [
              "3"
            ],
            "text/latex": [
              "3"
            ],
            "text/markdown": [
              "3"
            ],
            "text/plain": [
              "[1] 3"
            ]
          },
          "metadata": {},
          "output_type": "display_data"
        },
        {
          "data": {
            "text/html": [
              "3"
            ],
            "text/latex": [
              "3"
            ],
            "text/markdown": [
              "3"
            ],
            "text/plain": [
              "[1] 3"
            ]
          },
          "metadata": {},
          "output_type": "display_data"
        },
        {
          "data": {
            "text/html": [
              "'BRCA1'"
            ],
            "text/latex": [
              "'BRCA1'"
            ],
            "text/markdown": [
              "'BRCA1'"
            ],
            "text/plain": [
              "[1] \"BRCA1\""
            ]
          },
          "metadata": {},
          "output_type": "display_data"
        },
        {
          "data": {
            "text/html": [
              "15"
            ],
            "text/latex": [
              "15"
            ],
            "text/markdown": [
              "15"
            ],
            "text/plain": [
              "[1] 15"
            ]
          },
          "metadata": {},
          "output_type": "display_data"
        },
        {
          "data": {
            "text/html": [
              "'S1'"
            ],
            "text/latex": [
              "'S1'"
            ],
            "text/markdown": [
              "'S1'"
            ],
            "text/plain": [
              "[1] \"S1\""
            ]
          },
          "metadata": {},
          "output_type": "display_data"
        }
      ],
      "source": [
        "# Vector examples\n",
        "genes <- c(\"BRCA1\", \"TP53\", \"MYC\")\n",
        "expr  <- c(12.5, 8.2, 15.0)\n",
        "\n",
        "length(genes)\n",
        "length(expr)\n",
        "\n",
        "# Indexing (1-based in R)\n",
        "genes[1]\n",
        "expr[3]\n",
        "\n",
        "# List example (mixed types)\n",
        "sample_info <- list(sample_id = \"S1\", condition = \"treated\", replicates = 3)\n",
        "sample_info$sample_id\n"
      ]
    },
    {
      "cell_type": "markdown",
      "metadata": {
        "id": "IFucy6PCGvlo"
      },
      "source": [
        "Create a numeric vector vals with 5 numbers of your choice. Then:\n",
        "\n",
        "\n",
        "*   Print its length.\n",
        "*   Access the 2nd and 5th elements.\n",
        "\n",
        "\n",
        "\n"
      ]
    },
    {
      "cell_type": "code",
      "execution_count": 91,
      "metadata": {
        "id": "WJpTBYCIG1iJ",
        "vscode": {
          "languageId": "r"
        }
      },
      "outputs": [
        {
          "data": {
            "text/html": [
              "5"
            ],
            "text/latex": [
              "5"
            ],
            "text/markdown": [
              "5"
            ],
            "text/plain": [
              "[1] 5"
            ]
          },
          "metadata": {},
          "output_type": "display_data"
        },
        {
          "data": {
            "text/html": [
              "13"
            ],
            "text/latex": [
              "13"
            ],
            "text/markdown": [
              "13"
            ],
            "text/plain": [
              "[1] 13"
            ]
          },
          "metadata": {},
          "output_type": "display_data"
        },
        {
          "data": {
            "text/html": [
              "19.5"
            ],
            "text/latex": [
              "19.5"
            ],
            "text/markdown": [
              "19.5"
            ],
            "text/plain": [
              "[1] 19.5"
            ]
          },
          "metadata": {},
          "output_type": "display_data"
        }
      ],
      "source": [
        "vals <- c(18.0, 13.0, 15.0, 14.5, 19.5)\n",
        "length(vals)\n",
        "vals[2]\n",
        "vals[5]\n"
      ]
    },
    {
      "cell_type": "markdown",
      "metadata": {
        "id": "sUN59jxXG-qw"
      },
      "source": [
        "Create a list meta with fields: id, tissue, batch. Print tissue."
      ]
    },
    {
      "cell_type": "code",
      "execution_count": 92,
      "metadata": {
        "id": "_RXkeJrXG_Lc",
        "vscode": {
          "languageId": "r"
        }
      },
      "outputs": [
        {
          "data": {
            "text/html": [
              "'Brain'"
            ],
            "text/latex": [
              "'Brain'"
            ],
            "text/markdown": [
              "'Brain'"
            ],
            "text/plain": [
              "[1] \"Brain\""
            ]
          },
          "metadata": {},
          "output_type": "display_data"
        }
      ],
      "source": [
        "sample <- list(sample_id = \"S1\", sample_tissue = \"Brain\", sample_batch = 1)\n",
        "sample$sample_tissue"
      ]
    },
    {
      "cell_type": "markdown",
      "metadata": {
        "id": "nfvWDHSsHJsM"
      },
      "source": [
        "# **🗂 PART 4 — Data Frames**\n",
        "\n",
        "Create and inspect a table (like a spreadsheet), typical for gene expression."
      ]
    },
    {
      "cell_type": "code",
      "execution_count": 93,
      "metadata": {
        "id": "ww6xvGuCHFqS",
        "vscode": {
          "languageId": "r"
        }
      },
      "outputs": [
        {
          "data": {
            "text/html": [
              "<table class=\"dataframe\">\n",
              "<caption>A data.frame: 4 × 3</caption>\n",
              "<thead>\n",
              "\t<tr><th scope=col>gene</th><th scope=col>expression</th><th scope=col>condition</th></tr>\n",
              "\t<tr><th scope=col>&lt;chr&gt;</th><th scope=col>&lt;dbl&gt;</th><th scope=col>&lt;chr&gt;</th></tr>\n",
              "</thead>\n",
              "<tbody>\n",
              "\t<tr><td>BRCA1</td><td>10.1</td><td>treated</td></tr>\n",
              "\t<tr><td>TP53 </td><td>12.3</td><td>control</td></tr>\n",
              "\t<tr><td>MYC  </td><td> 8.7</td><td>treated</td></tr>\n",
              "\t<tr><td>EGFR </td><td>15.5</td><td>control</td></tr>\n",
              "</tbody>\n",
              "</table>\n"
            ],
            "text/latex": [
              "A data.frame: 4 × 3\n",
              "\\begin{tabular}{lll}\n",
              " gene & expression & condition\\\\\n",
              " <chr> & <dbl> & <chr>\\\\\n",
              "\\hline\n",
              "\t BRCA1 & 10.1 & treated\\\\\n",
              "\t TP53  & 12.3 & control\\\\\n",
              "\t MYC   &  8.7 & treated\\\\\n",
              "\t EGFR  & 15.5 & control\\\\\n",
              "\\end{tabular}\n"
            ],
            "text/markdown": [
              "\n",
              "A data.frame: 4 × 3\n",
              "\n",
              "| gene &lt;chr&gt; | expression &lt;dbl&gt; | condition &lt;chr&gt; |\n",
              "|---|---|---|\n",
              "| BRCA1 | 10.1 | treated |\n",
              "| TP53  | 12.3 | control |\n",
              "| MYC   |  8.7 | treated |\n",
              "| EGFR  | 15.5 | control |\n",
              "\n"
            ],
            "text/plain": [
              "  gene  expression condition\n",
              "1 BRCA1 10.1       treated  \n",
              "2 TP53  12.3       control  \n",
              "3 MYC    8.7       treated  \n",
              "4 EGFR  15.5       control  "
            ]
          },
          "metadata": {},
          "output_type": "display_data"
        },
        {
          "data": {
            "text/html": [
              "4"
            ],
            "text/latex": [
              "4"
            ],
            "text/markdown": [
              "4"
            ],
            "text/plain": [
              "[1] 4"
            ]
          },
          "metadata": {},
          "output_type": "display_data"
        },
        {
          "data": {
            "text/html": [
              "3"
            ],
            "text/latex": [
              "3"
            ],
            "text/markdown": [
              "3"
            ],
            "text/plain": [
              "[1] 3"
            ]
          },
          "metadata": {},
          "output_type": "display_data"
        },
        {
          "data": {
            "text/html": [
              "<style>\n",
              ".list-inline {list-style: none; margin:0; padding: 0}\n",
              ".list-inline>li {display: inline-block}\n",
              ".list-inline>li:not(:last-child)::after {content: \"\\00b7\"; padding: 0 .5ex}\n",
              "</style>\n",
              "<ol class=list-inline><li>'gene'</li><li>'expression'</li><li>'condition'</li></ol>\n"
            ],
            "text/latex": [
              "\\begin{enumerate*}\n",
              "\\item 'gene'\n",
              "\\item 'expression'\n",
              "\\item 'condition'\n",
              "\\end{enumerate*}\n"
            ],
            "text/markdown": [
              "1. 'gene'\n",
              "2. 'expression'\n",
              "3. 'condition'\n",
              "\n",
              "\n"
            ],
            "text/plain": [
              "[1] \"gene\"       \"expression\" \"condition\" "
            ]
          },
          "metadata": {},
          "output_type": "display_data"
        },
        {
          "data": {
            "text/html": [
              "<style>\n",
              ".list-inline {list-style: none; margin:0; padding: 0}\n",
              ".list-inline>li {display: inline-block}\n",
              ".list-inline>li:not(:last-child)::after {content: \"\\00b7\"; padding: 0 .5ex}\n",
              "</style>\n",
              "<ol class=list-inline><li>'BRCA1'</li><li>'TP53'</li><li>'MYC'</li><li>'EGFR'</li></ol>\n"
            ],
            "text/latex": [
              "\\begin{enumerate*}\n",
              "\\item 'BRCA1'\n",
              "\\item 'TP53'\n",
              "\\item 'MYC'\n",
              "\\item 'EGFR'\n",
              "\\end{enumerate*}\n"
            ],
            "text/markdown": [
              "1. 'BRCA1'\n",
              "2. 'TP53'\n",
              "3. 'MYC'\n",
              "4. 'EGFR'\n",
              "\n",
              "\n"
            ],
            "text/plain": [
              "[1] \"BRCA1\" \"TP53\"  \"MYC\"   \"EGFR\" "
            ]
          },
          "metadata": {},
          "output_type": "display_data"
        },
        {
          "data": {
            "text/html": [
              "<style>\n",
              ".list-inline {list-style: none; margin:0; padding: 0}\n",
              ".list-inline>li {display: inline-block}\n",
              ".list-inline>li:not(:last-child)::after {content: \"\\00b7\"; padding: 0 .5ex}\n",
              "</style>\n",
              "<ol class=list-inline><li>10.1</li><li>12.3</li><li>8.7</li><li>15.5</li></ol>\n"
            ],
            "text/latex": [
              "\\begin{enumerate*}\n",
              "\\item 10.1\n",
              "\\item 12.3\n",
              "\\item 8.7\n",
              "\\item 15.5\n",
              "\\end{enumerate*}\n"
            ],
            "text/markdown": [
              "1. 10.1\n",
              "2. 12.3\n",
              "3. 8.7\n",
              "4. 15.5\n",
              "\n",
              "\n"
            ],
            "text/plain": [
              "[1] 10.1 12.3  8.7 15.5"
            ]
          },
          "metadata": {},
          "output_type": "display_data"
        },
        {
          "data": {
            "text/html": [
              "<table class=\"dataframe\">\n",
              "<caption>A data.frame: 3 × 3</caption>\n",
              "<thead>\n",
              "\t<tr><th></th><th scope=col>gene</th><th scope=col>expression</th><th scope=col>condition</th></tr>\n",
              "\t<tr><th></th><th scope=col>&lt;chr&gt;</th><th scope=col>&lt;dbl&gt;</th><th scope=col>&lt;chr&gt;</th></tr>\n",
              "</thead>\n",
              "<tbody>\n",
              "\t<tr><th scope=row>1</th><td>BRCA1</td><td>10.1</td><td>treated</td></tr>\n",
              "\t<tr><th scope=row>2</th><td>TP53 </td><td>12.3</td><td>control</td></tr>\n",
              "\t<tr><th scope=row>4</th><td>EGFR </td><td>15.5</td><td>control</td></tr>\n",
              "</tbody>\n",
              "</table>\n"
            ],
            "text/latex": [
              "A data.frame: 3 × 3\n",
              "\\begin{tabular}{r|lll}\n",
              "  & gene & expression & condition\\\\\n",
              "  & <chr> & <dbl> & <chr>\\\\\n",
              "\\hline\n",
              "\t1 & BRCA1 & 10.1 & treated\\\\\n",
              "\t2 & TP53  & 12.3 & control\\\\\n",
              "\t4 & EGFR  & 15.5 & control\\\\\n",
              "\\end{tabular}\n"
            ],
            "text/markdown": [
              "\n",
              "A data.frame: 3 × 3\n",
              "\n",
              "| <!--/--> | gene &lt;chr&gt; | expression &lt;dbl&gt; | condition &lt;chr&gt; |\n",
              "|---|---|---|---|\n",
              "| 1 | BRCA1 | 10.1 | treated |\n",
              "| 2 | TP53  | 12.3 | control |\n",
              "| 4 | EGFR  | 15.5 | control |\n",
              "\n"
            ],
            "text/plain": [
              "  gene  expression condition\n",
              "1 BRCA1 10.1       treated  \n",
              "2 TP53  12.3       control  \n",
              "4 EGFR  15.5       control  "
            ]
          },
          "metadata": {},
          "output_type": "display_data"
        }
      ],
      "source": [
        "# Example: build a simple data frame\n",
        "genes <- c(\"BRCA1\", \"TP53\", \"MYC\", \"EGFR\")\n",
        "expr  <- c(10.1, 12.3, 8.7, 15.5)\n",
        "cond  <- c(\"treated\", \"control\", \"treated\", \"control\")\n",
        "\n",
        "df <- data.frame(gene = genes, expression = expr, condition = cond, stringsAsFactors = FALSE)\n",
        "df\n",
        "\n",
        "# Inspect\n",
        "nrow(df)\n",
        "ncol(df)\n",
        "colnames(df)\n",
        "\n",
        "# Select a column\n",
        "df$gene\n",
        "df[ , \"expression\"]\n",
        "\n",
        "# Filter rows\n",
        "df[df$expression > 10, ]\n"
      ]
    },
    {
      "cell_type": "markdown",
      "metadata": {
        "id": "4wyhYz1EHQ9G"
      },
      "source": [
        "Create a data frame samples with columns:\n",
        "\n",
        "\n",
        "\n",
        "*   sample = c(\"S1\",\"S2\",\"S3\")\n",
        "*   group = c(\"A\",\"A\",\"B\")\n",
        "*   value = any numeric values you like\n",
        "\n",
        "\n",
        "\n",
        "\n",
        "\n",
        "\n",
        "\n",
        "\n",
        "\n",
        "Then print only rows where group == \"A\"."
      ]
    },
    {
      "cell_type": "code",
      "execution_count": 94,
      "metadata": {
        "id": "nlaxKVK_HZRf",
        "vscode": {
          "languageId": "r"
        }
      },
      "outputs": [
        {
          "data": {
            "text/html": [
              "<table class=\"dataframe\">\n",
              "<caption>A data.frame: 2 × 3</caption>\n",
              "<thead>\n",
              "\t<tr><th></th><th scope=col>sample</th><th scope=col>group</th><th scope=col>value</th></tr>\n",
              "\t<tr><th></th><th scope=col>&lt;chr&gt;</th><th scope=col>&lt;chr&gt;</th><th scope=col>&lt;dbl&gt;</th></tr>\n",
              "</thead>\n",
              "<tbody>\n",
              "\t<tr><th scope=row>1</th><td>S1</td><td>A</td><td>4</td></tr>\n",
              "\t<tr><th scope=row>2</th><td>S2</td><td>A</td><td>3</td></tr>\n",
              "</tbody>\n",
              "</table>\n"
            ],
            "text/latex": [
              "A data.frame: 2 × 3\n",
              "\\begin{tabular}{r|lll}\n",
              "  & sample & group & value\\\\\n",
              "  & <chr> & <chr> & <dbl>\\\\\n",
              "\\hline\n",
              "\t1 & S1 & A & 4\\\\\n",
              "\t2 & S2 & A & 3\\\\\n",
              "\\end{tabular}\n"
            ],
            "text/markdown": [
              "\n",
              "A data.frame: 2 × 3\n",
              "\n",
              "| <!--/--> | sample &lt;chr&gt; | group &lt;chr&gt; | value &lt;dbl&gt; |\n",
              "|---|---|---|---|\n",
              "| 1 | S1 | A | 4 |\n",
              "| 2 | S2 | A | 3 |\n",
              "\n"
            ],
            "text/plain": [
              "  sample group value\n",
              "1 S1     A     4    \n",
              "2 S2     A     3    "
            ]
          },
          "metadata": {},
          "output_type": "display_data"
        }
      ],
      "source": [
        "sample = c(\"S1\",\"S2\",\"S3\")\n",
        "group = c(\"A\",\"A\",\"B\")\n",
        "value = c(4, 3, 5)\n",
        "df <- data.frame(sample = sample, group = group, value = value, stringsAsFactors = FALSE)\n",
        "df[df$group == \"A\",]\n",
        "\n",
        "\n"
      ]
    },
    {
      "cell_type": "markdown",
      "metadata": {
        "id": "J1leMDPOHghJ"
      },
      "source": [
        "# **🧮 PART 5 — Basic Functions**\n",
        "\n",
        "Use core functions: sum(), mean(), median(), min(), max(), length()."
      ]
    },
    {
      "cell_type": "code",
      "execution_count": 95,
      "metadata": {
        "id": "O1JzEYbVHjdR",
        "vscode": {
          "languageId": "r"
        }
      },
      "outputs": [
        {
          "data": {
            "text/html": [
              "33"
            ],
            "text/latex": [
              "33"
            ],
            "text/markdown": [
              "33"
            ],
            "text/plain": [
              "[1] 33"
            ]
          },
          "metadata": {},
          "output_type": "display_data"
        },
        {
          "data": {
            "text/html": [
              "6.6"
            ],
            "text/latex": [
              "6.6"
            ],
            "text/markdown": [
              "6.6"
            ],
            "text/plain": [
              "[1] 6.6"
            ]
          },
          "metadata": {},
          "output_type": "display_data"
        },
        {
          "data": {
            "text/html": [
              "7"
            ],
            "text/latex": [
              "7"
            ],
            "text/markdown": [
              "7"
            ],
            "text/plain": [
              "[1] 7"
            ]
          },
          "metadata": {},
          "output_type": "display_data"
        },
        {
          "data": {
            "text/html": [
              "3"
            ],
            "text/latex": [
              "3"
            ],
            "text/markdown": [
              "3"
            ],
            "text/plain": [
              "[1] 3"
            ]
          },
          "metadata": {},
          "output_type": "display_data"
        },
        {
          "data": {
            "text/html": [
              "10"
            ],
            "text/latex": [
              "10"
            ],
            "text/markdown": [
              "10"
            ],
            "text/plain": [
              "[1] 10"
            ]
          },
          "metadata": {},
          "output_type": "display_data"
        },
        {
          "data": {
            "text/html": [
              "5"
            ],
            "text/latex": [
              "5"
            ],
            "text/markdown": [
              "5"
            ],
            "text/plain": [
              "[1] 5"
            ]
          },
          "metadata": {},
          "output_type": "display_data"
        }
      ],
      "source": [
        "vals <- c(4, 7, 9, 10, 3)\n",
        "\n",
        "sum(vals)\n",
        "mean(vals)\n",
        "median(vals)\n",
        "min(vals)\n",
        "max(vals)\n",
        "length(vals)\n"
      ]
    },
    {
      "cell_type": "markdown",
      "metadata": {
        "id": "P0c6iE3THpOY"
      },
      "source": [
        "Given scores <- c(2, 8, 6, 9, 5, 11), compute and print:\n",
        "\n",
        "*  mean,\n",
        "\n",
        "*  standard deviation (sd()),\n",
        "\n",
        "*  the number of elements greater than 6 (hint: sum(scores > 6))."
      ]
    },
    {
      "cell_type": "code",
      "execution_count": 96,
      "metadata": {
        "id": "SZWRjQ1THmaG",
        "vscode": {
          "languageId": "r"
        }
      },
      "outputs": [
        {
          "data": {
            "text/html": [
              "6.83333333333333"
            ],
            "text/latex": [
              "6.83333333333333"
            ],
            "text/markdown": [
              "6.83333333333333"
            ],
            "text/plain": [
              "[1] 6.833333"
            ]
          },
          "metadata": {},
          "output_type": "display_data"
        },
        {
          "data": {
            "text/html": [
              "3.18852107828483"
            ],
            "text/latex": [
              "3.18852107828483"
            ],
            "text/markdown": [
              "3.18852107828483"
            ],
            "text/plain": [
              "[1] 3.188521"
            ]
          },
          "metadata": {},
          "output_type": "display_data"
        },
        {
          "data": {
            "text/html": [
              "3"
            ],
            "text/latex": [
              "3"
            ],
            "text/markdown": [
              "3"
            ],
            "text/plain": [
              "[1] 3"
            ]
          },
          "metadata": {},
          "output_type": "display_data"
        }
      ],
      "source": [
        "scores <- c(2, 8, 6, 9, 5, 11)\n",
        "mean(scores)\n",
        "sd(scores)\n",
        "sum(scores > 6)\n",
        "\n"
      ]
    },
    {
      "cell_type": "markdown",
      "metadata": {
        "id": "ovwIyCMWH6g7"
      },
      "source": [
        "# **📁 PART 6 — Reading CSV**\n",
        "\n",
        "Load a CSV file into a data frame using read.csv().\n",
        "You can use any local CSV file (e.g., data/gene_expression_small.csv)."
      ]
    },
    {
      "cell_type": "code",
      "execution_count": 97,
      "metadata": {
        "id": "wjoTT6SDH3_P",
        "vscode": {
          "languageId": "r"
        }
      },
      "outputs": [
        {
          "data": {
            "text/html": [
              "<table class=\"dataframe\">\n",
              "<caption>A data.frame: 6 × 17</caption>\n",
              "<thead>\n",
              "\t<tr><th></th><th scope=col>Gene_symbol</th><th scope=col>NAME</th><th scope=col>Foldchange</th><th scope=col>PValue</th><th scope=col>FDR</th><th scope=col>X1negH</th><th scope=col>X2negH</th><th scope=col>X3negH</th><th scope=col>X4negH</th><th scope=col>X5negH</th><th scope=col>X6negH</th><th scope=col>X1negN</th><th scope=col>X2negN</th><th scope=col>X3negN</th><th scope=col>X4negN</th><th scope=col>X5negN</th><th scope=col>X6negN</th></tr>\n",
              "\t<tr><th></th><th scope=col>&lt;chr&gt;</th><th scope=col>&lt;chr&gt;</th><th scope=col>&lt;dbl&gt;</th><th scope=col>&lt;dbl&gt;</th><th scope=col>&lt;dbl&gt;</th><th scope=col>&lt;dbl&gt;</th><th scope=col>&lt;dbl&gt;</th><th scope=col>&lt;dbl&gt;</th><th scope=col>&lt;dbl&gt;</th><th scope=col>&lt;dbl&gt;</th><th scope=col>&lt;dbl&gt;</th><th scope=col>&lt;dbl&gt;</th><th scope=col>&lt;dbl&gt;</th><th scope=col>&lt;dbl&gt;</th><th scope=col>&lt;dbl&gt;</th><th scope=col>&lt;dbl&gt;</th><th scope=col>&lt;dbl&gt;</th></tr>\n",
              "</thead>\n",
              "<tbody>\n",
              "\t<tr><th scope=row>1</th><td>0610007P14Rik</td><td>RIKEN cDNA 0610007P14 gene</td><td> 1.075514</td><td>0.34865989</td><td>0.4913452</td><td>21.03000</td><td>24.146191</td><td>19.1022415</td><td>20.9514908</td><td>20.477456</td><td>19.736071</td><td>21.4671470</td><td>20.915478</td><td>19.726746</td><td>14.117321</td><td>20.646162</td><td>19.674725</td></tr>\n",
              "\t<tr><th scope=row>2</th><td>0610009B22Rik</td><td>RIKEN cDNA 0610009B22 gene</td><td> 1.019276</td><td>0.79916181</td><td>0.8677645</td><td>12.47407</td><td>12.291472</td><td>12.1333456</td><td>11.6397171</td><td>11.900859</td><td>11.783808</td><td>11.8688553</td><td>11.557070</td><td>13.337265</td><td> 9.694298</td><td>12.153082</td><td>12.277833</td></tr>\n",
              "\t<tr><th scope=row>3</th><td>0610009L18Rik</td><td>RIKEN cDNA 0610009L18 gene</td><td>-1.115179</td><td>0.57861505</td><td>0.7035150</td><td> 1.19943</td><td> 1.310258</td><td> 0.7466674</td><td> 0.4404217</td><td> 1.329705</td><td> 1.662746</td><td> 0.8772632</td><td> 1.183895</td><td> 1.612879</td><td> 1.151198</td><td> 1.173077</td><td> 1.459251</td></tr>\n",
              "\t<tr><th scope=row>4</th><td>0610009O20Rik</td><td>RIKEN cDNA 0610009O20 gene</td><td>-1.146890</td><td>0.02606423</td><td>0.0648534</td><td>39.46123</td><td>40.368439</td><td>39.9467070</td><td>39.8896251</td><td>39.292780</td><td>36.941877</td><td>46.9593841</td><td>45.833649</td><td>34.738924</td><td>45.078485</td><td>47.955404</td><td>49.815800</td></tr>\n",
              "\t<tr><th scope=row>5</th><td>0610010B08Rik</td><td>RIKEN cDNA 0610010B08 gene</td><td>-1.125887</td><td>0.35051950</td><td>0.4933972</td><td>32.74443</td><td>43.612888</td><td>31.1111425</td><td>22.3985907</td><td>22.073102</td><td>24.796602</td><td>24.7697850</td><td>38.843031</td><td>32.257572</td><td>23.508672</td><td>35.896168</td><td>43.777521</td></tr>\n",
              "\t<tr><th scope=row>6</th><td>0610010F05Rik</td><td>RIKEN cDNA 0610010F05 gene</td><td> 1.062931</td><td>0.33456555</td><td>0.4765172</td><td>29.98574</td><td>33.380394</td><td>34.6578128</td><td>33.0945470</td><td>30.782669</td><td>34.483905</td><td>30.2913829</td><td>35.009466</td><td>25.681990</td><td>29.082894</td><td>32.658474</td><td>31.700963</td></tr>\n",
              "</tbody>\n",
              "</table>\n"
            ],
            "text/latex": [
              "A data.frame: 6 × 17\n",
              "\\begin{tabular}{r|lllllllllllllllll}\n",
              "  & Gene\\_symbol & NAME & Foldchange & PValue & FDR & X1negH & X2negH & X3negH & X4negH & X5negH & X6negH & X1negN & X2negN & X3negN & X4negN & X5negN & X6negN\\\\\n",
              "  & <chr> & <chr> & <dbl> & <dbl> & <dbl> & <dbl> & <dbl> & <dbl> & <dbl> & <dbl> & <dbl> & <dbl> & <dbl> & <dbl> & <dbl> & <dbl> & <dbl>\\\\\n",
              "\\hline\n",
              "\t1 & 0610007P14Rik & RIKEN cDNA 0610007P14 gene &  1.075514 & 0.34865989 & 0.4913452 & 21.03000 & 24.146191 & 19.1022415 & 20.9514908 & 20.477456 & 19.736071 & 21.4671470 & 20.915478 & 19.726746 & 14.117321 & 20.646162 & 19.674725\\\\\n",
              "\t2 & 0610009B22Rik & RIKEN cDNA 0610009B22 gene &  1.019276 & 0.79916181 & 0.8677645 & 12.47407 & 12.291472 & 12.1333456 & 11.6397171 & 11.900859 & 11.783808 & 11.8688553 & 11.557070 & 13.337265 &  9.694298 & 12.153082 & 12.277833\\\\\n",
              "\t3 & 0610009L18Rik & RIKEN cDNA 0610009L18 gene & -1.115179 & 0.57861505 & 0.7035150 &  1.19943 &  1.310258 &  0.7466674 &  0.4404217 &  1.329705 &  1.662746 &  0.8772632 &  1.183895 &  1.612879 &  1.151198 &  1.173077 &  1.459251\\\\\n",
              "\t4 & 0610009O20Rik & RIKEN cDNA 0610009O20 gene & -1.146890 & 0.02606423 & 0.0648534 & 39.46123 & 40.368439 & 39.9467070 & 39.8896251 & 39.292780 & 36.941877 & 46.9593841 & 45.833649 & 34.738924 & 45.078485 & 47.955404 & 49.815800\\\\\n",
              "\t5 & 0610010B08Rik & RIKEN cDNA 0610010B08 gene & -1.125887 & 0.35051950 & 0.4933972 & 32.74443 & 43.612888 & 31.1111425 & 22.3985907 & 22.073102 & 24.796602 & 24.7697850 & 38.843031 & 32.257572 & 23.508672 & 35.896168 & 43.777521\\\\\n",
              "\t6 & 0610010F05Rik & RIKEN cDNA 0610010F05 gene &  1.062931 & 0.33456555 & 0.4765172 & 29.98574 & 33.380394 & 34.6578128 & 33.0945470 & 30.782669 & 34.483905 & 30.2913829 & 35.009466 & 25.681990 & 29.082894 & 32.658474 & 31.700963\\\\\n",
              "\\end{tabular}\n"
            ],
            "text/markdown": [
              "\n",
              "A data.frame: 6 × 17\n",
              "\n",
              "| <!--/--> | Gene_symbol &lt;chr&gt; | NAME &lt;chr&gt; | Foldchange &lt;dbl&gt; | PValue &lt;dbl&gt; | FDR &lt;dbl&gt; | X1negH &lt;dbl&gt; | X2negH &lt;dbl&gt; | X3negH &lt;dbl&gt; | X4negH &lt;dbl&gt; | X5negH &lt;dbl&gt; | X6negH &lt;dbl&gt; | X1negN &lt;dbl&gt; | X2negN &lt;dbl&gt; | X3negN &lt;dbl&gt; | X4negN &lt;dbl&gt; | X5negN &lt;dbl&gt; | X6negN &lt;dbl&gt; |\n",
              "|---|---|---|---|---|---|---|---|---|---|---|---|---|---|---|---|---|---|\n",
              "| 1 | 0610007P14Rik | RIKEN cDNA 0610007P14 gene |  1.075514 | 0.34865989 | 0.4913452 | 21.03000 | 24.146191 | 19.1022415 | 20.9514908 | 20.477456 | 19.736071 | 21.4671470 | 20.915478 | 19.726746 | 14.117321 | 20.646162 | 19.674725 |\n",
              "| 2 | 0610009B22Rik | RIKEN cDNA 0610009B22 gene |  1.019276 | 0.79916181 | 0.8677645 | 12.47407 | 12.291472 | 12.1333456 | 11.6397171 | 11.900859 | 11.783808 | 11.8688553 | 11.557070 | 13.337265 |  9.694298 | 12.153082 | 12.277833 |\n",
              "| 3 | 0610009L18Rik | RIKEN cDNA 0610009L18 gene | -1.115179 | 0.57861505 | 0.7035150 |  1.19943 |  1.310258 |  0.7466674 |  0.4404217 |  1.329705 |  1.662746 |  0.8772632 |  1.183895 |  1.612879 |  1.151198 |  1.173077 |  1.459251 |\n",
              "| 4 | 0610009O20Rik | RIKEN cDNA 0610009O20 gene | -1.146890 | 0.02606423 | 0.0648534 | 39.46123 | 40.368439 | 39.9467070 | 39.8896251 | 39.292780 | 36.941877 | 46.9593841 | 45.833649 | 34.738924 | 45.078485 | 47.955404 | 49.815800 |\n",
              "| 5 | 0610010B08Rik | RIKEN cDNA 0610010B08 gene | -1.125887 | 0.35051950 | 0.4933972 | 32.74443 | 43.612888 | 31.1111425 | 22.3985907 | 22.073102 | 24.796602 | 24.7697850 | 38.843031 | 32.257572 | 23.508672 | 35.896168 | 43.777521 |\n",
              "| 6 | 0610010F05Rik | RIKEN cDNA 0610010F05 gene |  1.062931 | 0.33456555 | 0.4765172 | 29.98574 | 33.380394 | 34.6578128 | 33.0945470 | 30.782669 | 34.483905 | 30.2913829 | 35.009466 | 25.681990 | 29.082894 | 32.658474 | 31.700963 |\n",
              "\n"
            ],
            "text/plain": [
              "  Gene_symbol   NAME                       Foldchange PValue     FDR      \n",
              "1 0610007P14Rik RIKEN cDNA 0610007P14 gene  1.075514  0.34865989 0.4913452\n",
              "2 0610009B22Rik RIKEN cDNA 0610009B22 gene  1.019276  0.79916181 0.8677645\n",
              "3 0610009L18Rik RIKEN cDNA 0610009L18 gene -1.115179  0.57861505 0.7035150\n",
              "4 0610009O20Rik RIKEN cDNA 0610009O20 gene -1.146890  0.02606423 0.0648534\n",
              "5 0610010B08Rik RIKEN cDNA 0610010B08 gene -1.125887  0.35051950 0.4933972\n",
              "6 0610010F05Rik RIKEN cDNA 0610010F05 gene  1.062931  0.33456555 0.4765172\n",
              "  X1negH   X2negH    X3negH     X4negH     X5negH    X6negH    X1negN    \n",
              "1 21.03000 24.146191 19.1022415 20.9514908 20.477456 19.736071 21.4671470\n",
              "2 12.47407 12.291472 12.1333456 11.6397171 11.900859 11.783808 11.8688553\n",
              "3  1.19943  1.310258  0.7466674  0.4404217  1.329705  1.662746  0.8772632\n",
              "4 39.46123 40.368439 39.9467070 39.8896251 39.292780 36.941877 46.9593841\n",
              "5 32.74443 43.612888 31.1111425 22.3985907 22.073102 24.796602 24.7697850\n",
              "6 29.98574 33.380394 34.6578128 33.0945470 30.782669 34.483905 30.2913829\n",
              "  X2negN    X3negN    X4negN    X5negN    X6negN   \n",
              "1 20.915478 19.726746 14.117321 20.646162 19.674725\n",
              "2 11.557070 13.337265  9.694298 12.153082 12.277833\n",
              "3  1.183895  1.612879  1.151198  1.173077  1.459251\n",
              "4 45.833649 34.738924 45.078485 47.955404 49.815800\n",
              "5 38.843031 32.257572 23.508672 35.896168 43.777521\n",
              "6 35.009466 25.681990 29.082894 32.658474 31.700963"
            ]
          },
          "metadata": {},
          "output_type": "display_data"
        },
        {
          "name": "stdout",
          "output_type": "stream",
          "text": [
            "'data.frame':\t14673 obs. of  17 variables:\n",
            " $ Gene_symbol: chr  \"0610007P14Rik\" \"0610009B22Rik\" \"0610009L18Rik\" \"0610009O20Rik\" ...\n",
            " $ NAME       : chr  \"RIKEN cDNA 0610007P14 gene\" \"RIKEN cDNA 0610009B22 gene\" \"RIKEN cDNA 0610009L18 gene\" \"RIKEN cDNA 0610009O20 gene\" ...\n",
            " $ Foldchange : num  1.08 1.02 -1.12 -1.15 -1.13 ...\n",
            " $ PValue     : num  0.3487 0.7992 0.5786 0.0261 0.3505 ...\n",
            " $ FDR        : num  0.4913 0.8678 0.7035 0.0649 0.4934 ...\n",
            " $ X1negH     : num  21 12.5 1.2 39.5 32.7 ...\n",
            " $ X2negH     : num  24.15 12.29 1.31 40.37 43.61 ...\n",
            " $ X3negH     : num  19.102 12.133 0.747 39.947 31.111 ...\n",
            " $ X4negH     : num  20.95 11.64 0.44 39.89 22.4 ...\n",
            " $ X5negH     : num  20.48 11.9 1.33 39.29 22.07 ...\n",
            " $ X6negH     : num  19.74 11.78 1.66 36.94 24.8 ...\n",
            " $ X1negN     : num  21.467 11.869 0.877 46.959 24.77 ...\n",
            " $ X2negN     : num  20.92 11.56 1.18 45.83 38.84 ...\n",
            " $ X3negN     : num  19.73 13.34 1.61 34.74 32.26 ...\n",
            " $ X4negN     : num  14.12 9.69 1.15 45.08 23.51 ...\n",
            " $ X5negN     : num  20.65 12.15 1.17 47.96 35.9 ...\n",
            " $ X6negN     : num  19.67 12.28 1.46 49.82 43.78 ...\n"
          ]
        }
      ],
      "source": [
        "# Example: reading a CSV\n",
        "csv_path <- \"gene_expression_small.csv\"\n",
        "expr_df <- read.csv(csv_path, stringsAsFactors = FALSE)\n",
        "head(expr_df)\n",
        "str(expr_df)"
      ]
    },
    {
      "cell_type": "markdown",
      "metadata": {
        "id": "sbE_esgoIGgT"
      },
      "source": [
        "Set csv_path to a CSV file you have.\n",
        "\n",
        "Read it into my_df.\n",
        "\n",
        "Print the first 5 rows with head(my_df, 5) and show its structure with str(my_df)."
      ]
    },
    {
      "cell_type": "code",
      "execution_count": 98,
      "metadata": {
        "id": "8ltVwsHKIIVr",
        "vscode": {
          "languageId": "r"
        }
      },
      "outputs": [
        {
          "data": {
            "text/html": [
              "<table class=\"dataframe\">\n",
              "<caption>A data.frame: 5 × 17</caption>\n",
              "<thead>\n",
              "\t<tr><th></th><th scope=col>Gene_symbol</th><th scope=col>NAME</th><th scope=col>Foldchange</th><th scope=col>PValue</th><th scope=col>FDR</th><th scope=col>X1posH</th><th scope=col>X2posH</th><th scope=col>X3posH</th><th scope=col>X4posH</th><th scope=col>X5posH</th><th scope=col>X6posH</th><th scope=col>X1negH</th><th scope=col>X2negH</th><th scope=col>X3negH</th><th scope=col>X4negH</th><th scope=col>X5negH</th><th scope=col>X6negH</th></tr>\n",
              "\t<tr><th></th><th scope=col>&lt;chr&gt;</th><th scope=col>&lt;chr&gt;</th><th scope=col>&lt;dbl&gt;</th><th scope=col>&lt;dbl&gt;</th><th scope=col>&lt;dbl&gt;</th><th scope=col>&lt;dbl&gt;</th><th scope=col>&lt;dbl&gt;</th><th scope=col>&lt;dbl&gt;</th><th scope=col>&lt;dbl&gt;</th><th scope=col>&lt;dbl&gt;</th><th scope=col>&lt;dbl&gt;</th><th scope=col>&lt;dbl&gt;</th><th scope=col>&lt;dbl&gt;</th><th scope=col>&lt;dbl&gt;</th><th scope=col>&lt;dbl&gt;</th><th scope=col>&lt;dbl&gt;</th><th scope=col>&lt;dbl&gt;</th></tr>\n",
              "</thead>\n",
              "<tbody>\n",
              "\t<tr><th scope=row>1</th><td>0610007P14Rik</td><td>RIKEN cDNA 0610007P14 gene</td><td> 1.096333</td><td>0.2370071</td><td>0.9999021</td><td>24.0612254</td><td>22.9449721</td><td>21.8971733</td><td>19.840338</td><td>27.577471</td><td>21.3126119</td><td>21.03000</td><td>24.146191</td><td>19.1022415</td><td>20.9514908</td><td>20.477456</td><td>19.736071</td></tr>\n",
              "\t<tr><th scope=row>2</th><td>0610009B22Rik</td><td>RIKEN cDNA 0610009B22 gene</td><td>-1.025547</td><td>0.7403904</td><td>0.9999021</td><td>12.9424684</td><td>10.8455742</td><td>11.9136597</td><td>10.309783</td><td>12.922427</td><td>11.5976757</td><td>12.47407</td><td>12.291472</td><td>12.1333456</td><td>11.6397171</td><td>11.900859</td><td>11.783808</td></tr>\n",
              "\t<tr><th scope=row>3</th><td>0610009L18Rik</td><td>RIKEN cDNA 0610009L18 gene</td><td>-1.021398</td><td>0.9169321</td><td>0.9999021</td><td> 0.8236116</td><td> 0.5642206</td><td> 0.9983514</td><td> 1.258753</td><td> 1.949193</td><td> 0.9790246</td><td> 1.19943</td><td> 1.310258</td><td> 0.7466674</td><td> 0.4404217</td><td> 1.329705</td><td> 1.662746</td></tr>\n",
              "\t<tr><th scope=row>4</th><td>0610009O20Rik</td><td>RIKEN cDNA 0610009O20 gene</td><td>-1.050696</td><td>0.4274496</td><td>0.9999021</td><td>40.5334580</td><td>38.9939143</td><td>36.2734330</td><td>38.062279</td><td>34.941088</td><td>35.6214326</td><td>39.46123</td><td>40.368439</td><td>39.9467070</td><td>39.8896251</td><td>39.292780</td><td>36.941877</td></tr>\n",
              "\t<tr><th scope=row>5</th><td>0610010B08Rik</td><td>RIKEN cDNA 0610010B08 gene</td><td>-1.221902</td><td>0.1168136</td><td>0.9999021</td><td>12.5306626</td><td>28.2110313</td><td>19.3014598</td><td>31.229051</td><td>29.021317</td><td>24.4756144</td><td>32.74443</td><td>43.612888</td><td>31.1111425</td><td>22.3985907</td><td>22.073102</td><td>24.796602</td></tr>\n",
              "</tbody>\n",
              "</table>\n"
            ],
            "text/latex": [
              "A data.frame: 5 × 17\n",
              "\\begin{tabular}{r|lllllllllllllllll}\n",
              "  & Gene\\_symbol & NAME & Foldchange & PValue & FDR & X1posH & X2posH & X3posH & X4posH & X5posH & X6posH & X1negH & X2negH & X3negH & X4negH & X5negH & X6negH\\\\\n",
              "  & <chr> & <chr> & <dbl> & <dbl> & <dbl> & <dbl> & <dbl> & <dbl> & <dbl> & <dbl> & <dbl> & <dbl> & <dbl> & <dbl> & <dbl> & <dbl> & <dbl>\\\\\n",
              "\\hline\n",
              "\t1 & 0610007P14Rik & RIKEN cDNA 0610007P14 gene &  1.096333 & 0.2370071 & 0.9999021 & 24.0612254 & 22.9449721 & 21.8971733 & 19.840338 & 27.577471 & 21.3126119 & 21.03000 & 24.146191 & 19.1022415 & 20.9514908 & 20.477456 & 19.736071\\\\\n",
              "\t2 & 0610009B22Rik & RIKEN cDNA 0610009B22 gene & -1.025547 & 0.7403904 & 0.9999021 & 12.9424684 & 10.8455742 & 11.9136597 & 10.309783 & 12.922427 & 11.5976757 & 12.47407 & 12.291472 & 12.1333456 & 11.6397171 & 11.900859 & 11.783808\\\\\n",
              "\t3 & 0610009L18Rik & RIKEN cDNA 0610009L18 gene & -1.021398 & 0.9169321 & 0.9999021 &  0.8236116 &  0.5642206 &  0.9983514 &  1.258753 &  1.949193 &  0.9790246 &  1.19943 &  1.310258 &  0.7466674 &  0.4404217 &  1.329705 &  1.662746\\\\\n",
              "\t4 & 0610009O20Rik & RIKEN cDNA 0610009O20 gene & -1.050696 & 0.4274496 & 0.9999021 & 40.5334580 & 38.9939143 & 36.2734330 & 38.062279 & 34.941088 & 35.6214326 & 39.46123 & 40.368439 & 39.9467070 & 39.8896251 & 39.292780 & 36.941877\\\\\n",
              "\t5 & 0610010B08Rik & RIKEN cDNA 0610010B08 gene & -1.221902 & 0.1168136 & 0.9999021 & 12.5306626 & 28.2110313 & 19.3014598 & 31.229051 & 29.021317 & 24.4756144 & 32.74443 & 43.612888 & 31.1111425 & 22.3985907 & 22.073102 & 24.796602\\\\\n",
              "\\end{tabular}\n"
            ],
            "text/markdown": [
              "\n",
              "A data.frame: 5 × 17\n",
              "\n",
              "| <!--/--> | Gene_symbol &lt;chr&gt; | NAME &lt;chr&gt; | Foldchange &lt;dbl&gt; | PValue &lt;dbl&gt; | FDR &lt;dbl&gt; | X1posH &lt;dbl&gt; | X2posH &lt;dbl&gt; | X3posH &lt;dbl&gt; | X4posH &lt;dbl&gt; | X5posH &lt;dbl&gt; | X6posH &lt;dbl&gt; | X1negH &lt;dbl&gt; | X2negH &lt;dbl&gt; | X3negH &lt;dbl&gt; | X4negH &lt;dbl&gt; | X5negH &lt;dbl&gt; | X6negH &lt;dbl&gt; |\n",
              "|---|---|---|---|---|---|---|---|---|---|---|---|---|---|---|---|---|---|\n",
              "| 1 | 0610007P14Rik | RIKEN cDNA 0610007P14 gene |  1.096333 | 0.2370071 | 0.9999021 | 24.0612254 | 22.9449721 | 21.8971733 | 19.840338 | 27.577471 | 21.3126119 | 21.03000 | 24.146191 | 19.1022415 | 20.9514908 | 20.477456 | 19.736071 |\n",
              "| 2 | 0610009B22Rik | RIKEN cDNA 0610009B22 gene | -1.025547 | 0.7403904 | 0.9999021 | 12.9424684 | 10.8455742 | 11.9136597 | 10.309783 | 12.922427 | 11.5976757 | 12.47407 | 12.291472 | 12.1333456 | 11.6397171 | 11.900859 | 11.783808 |\n",
              "| 3 | 0610009L18Rik | RIKEN cDNA 0610009L18 gene | -1.021398 | 0.9169321 | 0.9999021 |  0.8236116 |  0.5642206 |  0.9983514 |  1.258753 |  1.949193 |  0.9790246 |  1.19943 |  1.310258 |  0.7466674 |  0.4404217 |  1.329705 |  1.662746 |\n",
              "| 4 | 0610009O20Rik | RIKEN cDNA 0610009O20 gene | -1.050696 | 0.4274496 | 0.9999021 | 40.5334580 | 38.9939143 | 36.2734330 | 38.062279 | 34.941088 | 35.6214326 | 39.46123 | 40.368439 | 39.9467070 | 39.8896251 | 39.292780 | 36.941877 |\n",
              "| 5 | 0610010B08Rik | RIKEN cDNA 0610010B08 gene | -1.221902 | 0.1168136 | 0.9999021 | 12.5306626 | 28.2110313 | 19.3014598 | 31.229051 | 29.021317 | 24.4756144 | 32.74443 | 43.612888 | 31.1111425 | 22.3985907 | 22.073102 | 24.796602 |\n",
              "\n"
            ],
            "text/plain": [
              "  Gene_symbol   NAME                       Foldchange PValue    FDR      \n",
              "1 0610007P14Rik RIKEN cDNA 0610007P14 gene  1.096333  0.2370071 0.9999021\n",
              "2 0610009B22Rik RIKEN cDNA 0610009B22 gene -1.025547  0.7403904 0.9999021\n",
              "3 0610009L18Rik RIKEN cDNA 0610009L18 gene -1.021398  0.9169321 0.9999021\n",
              "4 0610009O20Rik RIKEN cDNA 0610009O20 gene -1.050696  0.4274496 0.9999021\n",
              "5 0610010B08Rik RIKEN cDNA 0610010B08 gene -1.221902  0.1168136 0.9999021\n",
              "  X1posH     X2posH     X3posH     X4posH    X5posH    X6posH     X1negH  \n",
              "1 24.0612254 22.9449721 21.8971733 19.840338 27.577471 21.3126119 21.03000\n",
              "2 12.9424684 10.8455742 11.9136597 10.309783 12.922427 11.5976757 12.47407\n",
              "3  0.8236116  0.5642206  0.9983514  1.258753  1.949193  0.9790246  1.19943\n",
              "4 40.5334580 38.9939143 36.2734330 38.062279 34.941088 35.6214326 39.46123\n",
              "5 12.5306626 28.2110313 19.3014598 31.229051 29.021317 24.4756144 32.74443\n",
              "  X2negH    X3negH     X4negH     X5negH    X6negH   \n",
              "1 24.146191 19.1022415 20.9514908 20.477456 19.736071\n",
              "2 12.291472 12.1333456 11.6397171 11.900859 11.783808\n",
              "3  1.310258  0.7466674  0.4404217  1.329705  1.662746\n",
              "4 40.368439 39.9467070 39.8896251 39.292780 36.941877\n",
              "5 43.612888 31.1111425 22.3985907 22.073102 24.796602"
            ]
          },
          "metadata": {},
          "output_type": "display_data"
        },
        {
          "name": "stdout",
          "output_type": "stream",
          "text": [
            "'data.frame':\t14673 obs. of  17 variables:\n",
            " $ Gene_symbol: chr  \"0610007P14Rik\" \"0610009B22Rik\" \"0610009L18Rik\" \"0610009O20Rik\" ...\n",
            " $ NAME       : chr  \"RIKEN cDNA 0610007P14 gene\" \"RIKEN cDNA 0610009B22 gene\" \"RIKEN cDNA 0610009L18 gene\" \"RIKEN cDNA 0610009O20 gene\" ...\n",
            " $ Foldchange : num  1.1 -1.03 -1.02 -1.05 -1.22 ...\n",
            " $ PValue     : num  0.237 0.74 0.917 0.427 0.117 ...\n",
            " $ FDR        : num  1 1 1 1 1 ...\n",
            " $ X1posH     : num  24.061 12.942 0.824 40.533 12.531 ...\n",
            " $ X2posH     : num  22.945 10.846 0.564 38.994 28.211 ...\n",
            " $ X3posH     : num  21.897 11.914 0.998 36.273 19.301 ...\n",
            " $ X4posH     : num  19.84 10.31 1.26 38.06 31.23 ...\n",
            " $ X5posH     : num  27.58 12.92 1.95 34.94 29.02 ...\n",
            " $ X6posH     : num  21.313 11.598 0.979 35.621 24.476 ...\n",
            " $ X1negH     : num  21 12.5 1.2 39.5 32.7 ...\n",
            " $ X2negH     : num  24.15 12.29 1.31 40.37 43.61 ...\n",
            " $ X3negH     : num  19.102 12.133 0.747 39.947 31.111 ...\n",
            " $ X4negH     : num  20.95 11.64 0.44 39.89 22.4 ...\n",
            " $ X5negH     : num  20.48 11.9 1.33 39.29 22.07 ...\n",
            " $ X6negH     : num  19.74 11.78 1.66 36.94 24.8 ...\n"
          ]
        }
      ],
      "source": [
        "csv_path <- \"gene_expression_test.csv\"\n",
        "my_df <- read.csv(csv_path, stringsAsFactors = FALSE)\n",
        "head(my_df, 5)\n",
        "str(my_df)"
      ]
    },
    {
      "cell_type": "markdown",
      "metadata": {
        "id": "Gd_BeFI5IQLX"
      },
      "source": [
        "# **📊 PART 7 — Basic Plot**\n",
        "\n",
        "Make a simple scatter plot or bar plot with base R plotting."
      ]
    },
    {
      "cell_type": "code",
      "execution_count": 99,
      "metadata": {
        "id": "9l6ctGpbISHV",
        "vscode": {
          "languageId": "r"
        }
      },
      "outputs": [
        {
          "data": {
            "image/png": "[encoded data removed]",
            "text/plain": [
              "Plot with title \"Example Expression Values\""
            ]
          },
          "metadata": {
            "image/png": {
              "height": 420,
              "width": 420
            }
          },
          "output_type": "display_data"
        }
      ],
      "source": [
        "# Example scatter: expression vs index\n",
        "expr <- c(10.1, 12.3, 8.7, 15.5, 11.2)\n",
        "plot(expr, main = \"Example Expression Values\", xlab = \"Index\", ylab = \"Expression\")\n"
      ]
    },
    {
      "cell_type": "markdown",
      "metadata": {
        "id": "1EJlTqSBIV5-"
      },
      "source": [
        "Create two numeric vectors of the same length, xvals and yvals.\n",
        "\n",
        "Make a scatter plot plot(xvals, yvals, main=\"My Scatter\")."
      ]
    },
    {
      "cell_type": "code",
      "execution_count": 100,
      "metadata": {
        "id": "UDLX22ANIWaN",
        "vscode": {
          "languageId": "r"
        }
      },
      "outputs": [
        {
          "data": {
            "image/png": "[encoded data removed]",
            "text/plain": [
              "Plot with title \"My Scatter\""
            ]
          },
          "metadata": {
            "image/png": {
              "height": 420,
              "width": 420
            }
          },
          "output_type": "display_data"
        }
      ],
      "source": [
        "xvals <- c(10, 12, 33, 104, 95)\n",
        "yvals <- c(1, 4, 9, 16, 25)\n",
        "plot(xvals, yvals, main = \"My Scatter\")\n",
        "\n"
      ]
    },
    {
      "cell_type": "markdown",
      "metadata": {
        "id": "Yk8iMFBCLsP2"
      },
      "source": [
        "# **🧩 PART 8 — Writing Functions in R**\n",
        "\n",
        "Define reusable functions, work with arguments, return values, and simple checks.\n",
        "\n",
        "8.1 Function Basics"
      ]
    },
    {
      "cell_type": "code",
      "execution_count": 101,
      "metadata": {
        "id": "zBkLa1-eLw5Q",
        "vscode": {
          "languageId": "r"
        }
      },
      "outputs": [
        {
          "data": {
            "text/html": [
              "50"
            ],
            "text/latex": [
              "50"
            ],
            "text/markdown": [
              "50"
            ],
            "text/plain": [
              "[1] 50"
            ]
          },
          "metadata": {},
          "output_type": "display_data"
        },
        {
          "data": {
            "text/html": [
              "&lt;NA&gt;"
            ],
            "text/latex": [
              "<NA>"
            ],
            "text/markdown": [
              "&lt;NA&gt;"
            ],
            "text/plain": [
              "[1] NA"
            ]
          },
          "metadata": {},
          "output_type": "display_data"
        }
      ],
      "source": [
        "# Example: a simple function to compute GC content of a DNA string\n",
        "gc_content <- function(dna) {\n",
        "  # Convert to upper just in case\n",
        "  s <- toupper(dna)\n",
        "  n <- nchar(s)\n",
        "  if (n == 0) return(NA_real_)\n",
        "  gc <- sum(unlist(strsplit(s, \"\")) %in% c(\"G\", \"C\"))\n",
        "  return(100 * gc / n)\n",
        "}\n",
        "\n",
        "# Try it\n",
        "gc_content(\"ATGCGT\")\n",
        "gc_content(\"\")\n"
      ]
    },
    {
      "cell_type": "markdown",
      "metadata": {
        "id": "N74EKDZMLwb1"
      },
      "source": [
        "Write a function nucleotide_counts(seq) that returns a named vector with counts of A, T, C, G."
      ]
    },
    {
      "cell_type": "code",
      "execution_count": 102,
      "metadata": {
        "id": "x0evwxvKL1W8",
        "vscode": {
          "languageId": "r"
        }
      },
      "outputs": [
        {
          "name": "stdout",
          "output_type": "stream",
          "text": [
            "A T C G \n",
            "5 6 5 7 \n"
          ]
        }
      ],
      "source": [
        "nucleotide_counts <- function(seq) {\n",
        "  seq <- toupper(seq)\n",
        "  chars <- unlist(strsplit(seq, \"\"))\n",
        "  \n",
        "  counts <- c(\n",
        "    A = sum(chars == \"A\"),\n",
        "    T = sum(chars == \"T\"),\n",
        "    C = sum(chars == \"C\"),\n",
        "    G = sum(chars == \"G\")\n",
        "  )\n",
        "  return(counts)\n",
        "}\n",
        "print(nucleotide_counts(\"ACTGTGCAGCTAGCTGATCGAGT\"))"
      ]
    },
    {
      "cell_type": "markdown",
      "metadata": {
        "id": "V1HYVsKQL_zs"
      },
      "source": [
        "8.2 Arguments with Defaults & Input Validation"
      ]
    },
    {
      "cell_type": "code",
      "execution_count": 103,
      "metadata": {
        "id": "6I9krAxlMEMs",
        "vscode": {
          "languageId": "r"
        }
      },
      "outputs": [
        {
          "data": {
            "text/plain": [
              "kmers\n",
              "AT CG GC GT TG \n",
              " 1  1  1  1  1 "
            ]
          },
          "metadata": {},
          "output_type": "display_data"
        }
      ],
      "source": [
        "# Example: k-mer counter with default k = 3\n",
        "kmer_count <- function(seq, k = 3) {\n",
        "  s <- toupper(seq)\n",
        "  n <- nchar(s)\n",
        "  if (!is.numeric(k) || length(k) != 1 || k < 1) {\n",
        "    stop(\"k must be a positive integer length 1.\")\n",
        "  }\n",
        "  if (k > n) return(integer(0))\n",
        "  kmers <- sapply(1:(n - k + 1), function(i) substr(s, i, i + k - 1))\n",
        "  tab <- table(kmers)\n",
        "  return(tab[order(names(tab))])\n",
        "}\n",
        "\n",
        "# Try it\n",
        "kmer_count(\"ATGCGT\", k = 2)\n"
      ]
    },
    {
      "cell_type": "markdown",
      "metadata": {
        "id": "OuFpGf2zMGUV"
      },
      "source": [
        "Write a function safe_mean(x, na_rm = TRUE) that:\n",
        "\n",
        "* checks x is numeric,\n",
        "\n",
        "* if na_rm is TRUE, ignores NAs,\n",
        "\n",
        "* returns NA if all values are NA or x is length 0."
      ]
    },
    {
      "cell_type": "code",
      "execution_count": 104,
      "metadata": {
        "id": "e2E-skRFMMDw",
        "vscode": {
          "languageId": "r"
        }
      },
      "outputs": [],
      "source": [
        "safe_mean <- function(x, na_rm = TRUE) {\n",
        "  \n",
        "  s <- x[!is.na(x)]\n",
        "  if (length(s) == 0){\n",
        "     return(NA_real_)\n",
        "  }\n",
        "\n",
        "  if (!is.numeric(x)) {\n",
        "    stop(\"Input 'x' must be numeric.\")\n",
        "  }\n",
        "  \n",
        "  if (length(x) == 0) {\n",
        "    return(NA_real_)\n",
        "  }\n",
        "  \n",
        "  if (na_rm) {\n",
        "    x <- x[!is.na(x)]\n",
        "  }\n",
        "  \n",
        "  if (length(x) == 0) {\n",
        "    return(NA_real_)\n",
        "  }\n",
        "  \n",
        "  mean(x, na.rm = FALSE)\n",
        "}\n",
        "# x <- c(NA,NA,NA)\n",
        "# safe_mean(x)\n"
      ]
    },
    {
      "cell_type": "markdown",
      "metadata": {
        "id": "54PQU1dcMTKe"
      },
      "source": [
        "8.3 Returning Multiple Values (Lists) & Simple Tests"
      ]
    },
    {
      "cell_type": "code",
      "execution_count": 105,
      "metadata": {
        "id": "qX4zY8j6MU6K",
        "vscode": {
          "languageId": "r"
        }
      },
      "outputs": [
        {
          "data": {
            "text/html": [
              "<dl>\n",
              "\t<dt>$mean</dt>\n",
              "\t\t<dd>2</dd>\n",
              "\t<dt>$sd</dt>\n",
              "\t\t<dd>1</dd>\n",
              "\t<dt>$n</dt>\n",
              "\t\t<dd>3</dd>\n",
              "</dl>\n"
            ],
            "text/latex": [
              "\\begin{description}\n",
              "\\item[\\$mean] 2\n",
              "\\item[\\$sd] 1\n",
              "\\item[\\$n] 3\n",
              "\\end{description}\n"
            ],
            "text/markdown": [
              "$mean\n",
              ":   2\n",
              "$sd\n",
              ":   1\n",
              "$n\n",
              ":   3\n",
              "\n",
              "\n"
            ],
            "text/plain": [
              "$mean\n",
              "[1] 2\n",
              "\n",
              "$sd\n",
              "[1] 1\n",
              "\n",
              "$n\n",
              "[1] 3\n"
            ]
          },
          "metadata": {},
          "output_type": "display_data"
        }
      ],
      "source": [
        "# Example: summary of a numeric vector\n",
        "vec_summary <- function(x) {\n",
        "  if (!is.numeric(x)) stop(\"x must be numeric.\")\n",
        "  if (length(x) == 0) return(list(mean = NA_real_, sd = NA_real_, n = 0))\n",
        "  out <- list(\n",
        "    mean = mean(x, na.rm = TRUE),\n",
        "    sd   = sd(x, na.rm = TRUE),\n",
        "    n    = sum(!is.na(x))\n",
        "  )\n",
        "  return(out)\n",
        "}\n",
        "\n",
        "vec_summary(c(1, 2, 3, NA))\n"
      ]
    },
    {
      "cell_type": "markdown",
      "metadata": {
        "id": "Zk_dsU0OMYeB"
      },
      "source": [
        "Create a short numeric vector and verify your safe_mean() handles NAs as expected."
      ]
    },
    {
      "cell_type": "code",
      "execution_count": 106,
      "metadata": {
        "id": "0pKHUfbKMaYt",
        "vscode": {
          "languageId": "r"
        }
      },
      "outputs": [
        {
          "data": {
            "text/html": [
              "13.75"
            ],
            "text/latex": [
              "13.75"
            ],
            "text/markdown": [
              "13.75"
            ],
            "text/plain": [
              "[1] 13.75"
            ]
          },
          "metadata": {},
          "output_type": "display_data"
        },
        {
          "data": {
            "text/html": [
              "&lt;NA&gt;"
            ],
            "text/latex": [
              "<NA>"
            ],
            "text/markdown": [
              "&lt;NA&gt;"
            ],
            "text/plain": [
              "[1] NA"
            ]
          },
          "metadata": {},
          "output_type": "display_data"
        }
      ],
      "source": [
        "x = c(12, 14, 13, NA, 16)\n",
        "safe_mean(x, TRUE)\n",
        "safe_mean(x, FALSE)\n"
      ]
    },
    {
      "cell_type": "markdown",
      "metadata": {
        "id": "_7YvI5mkIdft"
      },
      "source": [
        "# **🎯 MINI TASKS**\n",
        "\n",
        "# **✅ Mini Task 1 — Gene Expression Summary**\n",
        "\n",
        "Task:\n",
        "\n",
        "1. Create a numeric vector expr_vals with at least 6 expression values (e.g., TPM).\n",
        "\n",
        "2. Compute and print:\n",
        "\n",
        "    * mean,\n",
        "\n",
        "    * max,\n",
        "\n",
        "    * min,\n",
        "\n",
        "    * the index (position) of the max value (hint: which.max())."
      ]
    },
    {
      "cell_type": "code",
      "execution_count": 107,
      "metadata": {
        "id": "UW0ZX2IcI0sM",
        "vscode": {
          "languageId": "r"
        }
      },
      "outputs": [
        {
          "name": "stdout",
          "output_type": "stream",
          "text": [
            "Mean expression: 7.89 \n",
            "Maximum value: 14.51 \n",
            "Minimum value: 2.5 \n",
            "Index of maximum value: 8 \n"
          ]
        }
      ],
      "source": [
        "expr_vals <- c(5.2, 8.7, 3.1, 10.5, 7.8, 6.4, 12.3, 14.51, 2.5)\n",
        "\n",
        "mean_expr <- mean(expr_vals)\n",
        "max_expr  <- max(expr_vals)\n",
        "min_expr  <- min(expr_vals)\n",
        "max_index <- which.max(expr_vals)\n",
        "\n",
        "# Step 3: print results\n",
        "cat(\"Mean expression:\", mean_expr, \"\\n\")\n",
        "cat(\"Maximum value:\", max_expr, \"\\n\")\n",
        "cat(\"Minimum value:\", min_expr, \"\\n\")\n",
        "cat(\"Index of maximum value:\", max_index, \"\\n\")\n"
      ]
    },
    {
      "cell_type": "markdown",
      "metadata": {
        "id": "ObN50QcKI8AA"
      },
      "source": [
        "# **✅ Mini Task 2 — Build a Gene Data Frame & Filter**\n",
        "\n",
        "Task:\n",
        "\n",
        "1. Create a data frame gene_df with columns:\n",
        "\n",
        "    * gene (character): at least 6 gene symbols\n",
        "\n",
        "    * expr (numeric): expression values\n",
        "\n",
        "    * cond (character): group labels like \"treated\"/\"control\"\n",
        "\n",
        "2. Print only genes where expr > THRESHOLD (you choose the threshold).\n",
        "\n",
        "3. (Optional) Plot expr as a simple bar plot with gene names on x-axis (hint: barplot() with names.arg=)."
      ]
    },
    {
      "cell_type": "code",
      "execution_count": 108,
      "metadata": {
        "id": "TENOUuVJJMAr",
        "vscode": {
          "languageId": "r"
        }
      },
      "outputs": [
        {
          "name": "stdout",
          "output_type": "stream",
          "text": [
            "   gene expr    cond\n",
            "1  TP53 12.4 treated\n",
            "3   MYC 15.2 treated\n",
            "5 VEGFA  9.6 treated\n",
            "6  CDK2  7.3 control\n"
          ]
        },
        {
          "data": {
            "image/png": "[encoded data removed]",
            "text/plain": [
              "Plot with title \"Gene Expression Levels\""
            ]
          },
          "metadata": {
            "image/png": {
              "height": 420,
              "width": 420
            }
          },
          "output_type": "display_data"
        }
      ],
      "source": [
        "gene_df <- data.frame(\n",
        "  gene = c(\"TP53\", \"EGFR\", \"MYC\", \"BRCA1\", \"VEGFA\", \"CDK2\"),\n",
        "  expr = c(12.4, 5.8, 15.2, 3.7, 9.6, 7.3),\n",
        "  cond = c(\"treated\", \"control\", \"treated\", \"control\", \"treated\", \"control\"),\n",
        "  stringsAsFactors = FALSE\n",
        ")\n",
        "\n",
        "THRESHOLD <- 7.29\n",
        "high_expr <- subset(gene_df, expr > THRESHOLD)\n",
        "print(high_expr)\n",
        "\n",
        "barplot(\n",
        "  height = gene_df$expr,\n",
        "  names.arg = gene_df$gene,\n",
        "  col = \"red\",\n",
        "  main = \"Gene Expression Levels\",\n",
        "  xlab = \"Gene\",\n",
        "  ylab = \"Expression (TPM)\"\n",
        ")\n"
      ]
    },
    {
      "cell_type": "markdown",
      "metadata": {
        "id": "1imVkdbSepyh"
      },
      "source": [
        "# **🎯 Mini-Tasks (Functions)**\n",
        "\n",
        "Mini-Task F1 — Reusable QC function\n",
        "Write a function qc_read(read_seq, min_len = 50, allowed = c(\"A\",\"C\",\"G\",\"T\",\"N\")) that:\n",
        "\n",
        "* checks length ≥ min_len,\n",
        "\n",
        "* returns TRUE/FALSE,\n",
        "\n",
        "* ensures all characters belong to allowed."
      ]
    },
    {
      "cell_type": "code",
      "execution_count": 109,
      "metadata": {
        "id": "cgEjG2m1esUb",
        "vscode": {
          "languageId": "r"
        }
      },
      "outputs": [
        {
          "data": {
            "text/html": [
              "TRUE"
            ],
            "text/latex": [
              "TRUE"
            ],
            "text/markdown": [
              "TRUE"
            ],
            "text/plain": [
              "[1] TRUE"
            ]
          },
          "metadata": {},
          "output_type": "display_data"
        },
        {
          "data": {
            "text/html": [
              "FALSE"
            ],
            "text/latex": [
              "FALSE"
            ],
            "text/markdown": [
              "FALSE"
            ],
            "text/plain": [
              "[1] FALSE"
            ]
          },
          "metadata": {},
          "output_type": "display_data"
        },
        {
          "data": {
            "text/html": [
              "FALSE"
            ],
            "text/latex": [
              "FALSE"
            ],
            "text/markdown": [
              "FALSE"
            ],
            "text/plain": [
              "[1] FALSE"
            ]
          },
          "metadata": {},
          "output_type": "display_data"
        },
        {
          "data": {
            "text/html": [
              "TRUE"
            ],
            "text/latex": [
              "TRUE"
            ],
            "text/markdown": [
              "TRUE"
            ],
            "text/plain": [
              "[1] TRUE"
            ]
          },
          "metadata": {},
          "output_type": "display_data"
        }
      ],
      "source": [
        "\n",
        "qc_read <- function(read_seq, min_len = 50, allowed = c(\"A\", \"C\", \"G\", \"T\", \"N\")) {\n",
        "  read_seq <- toupper(read_seq)\n",
        "  \n",
        "  len_ok <- nchar(read_seq) >= min_len\n",
        "  chars <- strsplit(read_seq, \"\")[[1]]\n",
        "  valid_chars <- all(chars %in% allowed)\n",
        "  \n",
        "  return(len_ok && valid_chars)\n",
        "}\n",
        "\n",
        "qc_read(\"ACTGATgCnTGCANGT\", min_len = 5)\n",
        "qc_read(\"ACGxyz\", min_len = 5)\n",
        "qc_read(\"ACGT\", min_len = 10)\n",
        "qc_read(\"ACGTNNNNNNNNNNNNNNNNNNNNNNNNNNNNNNNNNNNNNNNNNNNNNNNNTTTTTTTTAAAAAAAAAAA\", min_len = 50)\n"
      ]
    },
    {
      "cell_type": "markdown",
      "metadata": {
        "id": "uCi2BgLBfVTO"
      },
      "source": [
        "# **🔧 Advanced Add-Ons**"
      ]
    },
    {
      "cell_type": "markdown",
      "metadata": {
        "id": "Y_JEaN8xf9zG"
      },
      "source": [
        "# **📦 Cell 1 — Install packages (idempotent)**"
      ]
    },
    {
      "cell_type": "code",
      "execution_count": 110,
      "metadata": {
        "id": "IKQuWverf9jx",
        "vscode": {
          "languageId": "r"
        }
      },
      "outputs": [
        {
          "name": "stdout",
          "output_type": "stream",
          "text": [
            "Installed (Bioc):  \n",
            "Installed (CRAN):  \n"
          ]
        }
      ],
      "source": [
        "# Install BiocManager if needed\n",
        "if (!requireNamespace(\"BiocManager\", quietly = TRUE)) {\n",
        "  install.packages(\"BiocManager\")\n",
        "}\n",
        "\n",
        "# --- Bioconductor packages (only if missing) ---\n",
        "bioc_pkgs <- c(\"GEOquery\", \"limma\", \"sva\")\n",
        "to_install_bioc <- bioc_pkgs[!vapply(bioc_pkgs, requireNamespace, logical(1), quietly = TRUE)]\n",
        "if (length(to_install_bioc)) {\n",
        "  BiocManager::install(to_install_bioc, ask = FALSE, update = TRUE)\n",
        "}\n",
        "\n",
        "# --- CRAN packages (only if missing) ---\n",
        "cran_pkgs <- c(\"umap\", \"ggplot2\", \"dplyr\", \"ggrepel\", \"plotly\", \"irlba\", \"dbscan\")\n",
        "to_install_cran <- cran_pkgs[!vapply(cran_pkgs, requireNamespace, logical(1), quietly = TRUE)]\n",
        "if (length(to_install_cran)) {\n",
        "  install.packages(to_install_cran, dependencies = TRUE)\n",
        "}\n",
        "\n",
        "# Optional: show what changed\n",
        "cat(\"Installed (Bioc):\", paste(to_install_bioc, collapse = \", \"), \"\\n\")\n",
        "cat(\"Installed (CRAN):\", paste(to_install_cran, collapse = \", \"), \"\\n\")\n"
      ]
    },
    {
      "cell_type": "markdown",
      "metadata": {
        "id": "QNFW1_lAgq04"
      },
      "source": [
        "# **Load libraries quietly + show versions**"
      ]
    },
    {
      "cell_type": "code",
      "execution_count": 111,
      "metadata": {
        "id": "Qj6ZsbC6gj80",
        "vscode": {
          "languageId": "r"
        }
      },
      "outputs": [
        {
          "data": {
            "text/html": [
              "<table class=\"dataframe\">\n",
              "<caption>A data.frame: 8 × 2</caption>\n",
              "<thead>\n",
              "\t<tr><th></th><th scope=col>package</th><th scope=col>version</th></tr>\n",
              "\t<tr><th></th><th scope=col>&lt;chr&gt;</th><th scope=col>&lt;chr&gt;</th></tr>\n",
              "</thead>\n",
              "<tbody>\n",
              "\t<tr><th scope=row>GEOquery</th><td>GEOquery</td><td>2.76.0  </td></tr>\n",
              "\t<tr><th scope=row>limma</th><td>limma   </td><td>3.64.3  </td></tr>\n",
              "\t<tr><th scope=row>sva</th><td>sva     </td><td>3.56.0  </td></tr>\n",
              "\t<tr><th scope=row>umap</th><td>umap    </td><td>0.2.10.0</td></tr>\n",
              "\t<tr><th scope=row>ggplot2</th><td>ggplot2 </td><td>4.0.0   </td></tr>\n",
              "\t<tr><th scope=row>dplyr</th><td>dplyr   </td><td>1.1.4   </td></tr>\n",
              "\t<tr><th scope=row>dbscan</th><td>dbscan  </td><td>1.2.3   </td></tr>\n",
              "\t<tr><th scope=row>irlba</th><td>irlba   </td><td>2.3.5.1 </td></tr>\n",
              "</tbody>\n",
              "</table>\n"
            ],
            "text/latex": [
              "A data.frame: 8 × 2\n",
              "\\begin{tabular}{r|ll}\n",
              "  & package & version\\\\\n",
              "  & <chr> & <chr>\\\\\n",
              "\\hline\n",
              "\tGEOquery & GEOquery & 2.76.0  \\\\\n",
              "\tlimma & limma    & 3.64.3  \\\\\n",
              "\tsva & sva      & 3.56.0  \\\\\n",
              "\tumap & umap     & 0.2.10.0\\\\\n",
              "\tggplot2 & ggplot2  & 4.0.0   \\\\\n",
              "\tdplyr & dplyr    & 1.1.4   \\\\\n",
              "\tdbscan & dbscan   & 1.2.3   \\\\\n",
              "\tirlba & irlba    & 2.3.5.1 \\\\\n",
              "\\end{tabular}\n"
            ],
            "text/markdown": [
              "\n",
              "A data.frame: 8 × 2\n",
              "\n",
              "| <!--/--> | package &lt;chr&gt; | version &lt;chr&gt; |\n",
              "|---|---|---|\n",
              "| GEOquery | GEOquery | 2.76.0   |\n",
              "| limma | limma    | 3.64.3   |\n",
              "| sva | sva      | 3.56.0   |\n",
              "| umap | umap     | 0.2.10.0 |\n",
              "| ggplot2 | ggplot2  | 4.0.0    |\n",
              "| dplyr | dplyr    | 1.1.4    |\n",
              "| dbscan | dbscan   | 1.2.3    |\n",
              "| irlba | irlba    | 2.3.5.1  |\n",
              "\n"
            ],
            "text/plain": [
              "         package  version \n",
              "GEOquery GEOquery 2.76.0  \n",
              "limma    limma    3.64.3  \n",
              "sva      sva      3.56.0  \n",
              "umap     umap     0.2.10.0\n",
              "ggplot2  ggplot2  4.0.0   \n",
              "dplyr    dplyr    1.1.4   \n",
              "dbscan   dbscan   1.2.3   \n",
              "irlba    irlba    2.3.5.1 "
            ]
          },
          "metadata": {},
          "output_type": "display_data"
        }
      ],
      "source": [
        "# Load libraries (suppress noise)\n",
        "suppressPackageStartupMessages({\n",
        "  library(GEOquery)\n",
        "  library(limma)\n",
        "  library(sva)\n",
        "  library(umap)\n",
        "  library(ggplot2)\n",
        "  library(dplyr)\n",
        "  library(dbscan)\n",
        "  library(irlba)\n",
        "})\n",
        "\n",
        "# Verify versions\n",
        "pkg_ver <- function(x) as.character(utils::packageVersion(x))\n",
        "data.frame(\n",
        "  package = c(\"GEOquery\",\"limma\",\"sva\",\"umap\",\"ggplot2\",\"dplyr\",\"dbscan\",\"irlba\"),\n",
        "  version = vapply(c(\"GEOquery\",\"limma\",\"sva\",\"umap\",\"ggplot2\",\"dplyr\",\"dbscan\",\"irlba\"), pkg_ver, character(1))\n",
        ")\n"
      ]
    },
    {
      "cell_type": "markdown",
      "metadata": {
        "id": "C3pJS7ZrguR8"
      },
      "source": [
        "# **Tiny ggplot example (no internet, built-in data)**"
      ]
    },
    {
      "cell_type": "code",
      "execution_count": 112,
      "metadata": {
        "id": "j3tEbcqpgxFo",
        "vscode": {
          "languageId": "r"
        }
      },
      "outputs": [
        {
          "name": "stderr",
          "output_type": "stream",
          "text": [
            "\u001b[1m\u001b[22m`geom_smooth()` using formula = 'y ~ x'\n"
          ]
        },
        {
          "data": {
            "image/png": "[encoded data removed]",
            "text/plain": [
              "plot without title"
            ]
          },
          "metadata": {
            "image/png": {
              "height": 420,
              "width": 420
            }
          },
          "output_type": "display_data"
        }
      ],
      "source": [
        "# Scatter with regression smooth on mtcars (built-in)\n",
        "df <- mtcars\n",
        "ggplot(df, aes(x = wt, y = mpg)) +\n",
        "  geom_point() +\n",
        "  geom_smooth(method = \"lm\", se = FALSE) +\n",
        "  labs(title = \"mpg vs wt (mtcars)\", x = \"Weight (1000 lbs)\", y = \"MPG\")\n"
      ]
    },
    {
      "cell_type": "markdown",
      "metadata": {
        "id": "J0BgSTiggzXN"
      },
      "source": [
        "# **UMAP + DBSCAN demo on iris (quick ML taste)**"
      ]
    },
    {
      "cell_type": "code",
      "execution_count": 113,
      "metadata": {
        "id": "CfyFmwQ8g3yy",
        "vscode": {
          "languageId": "r"
        }
      },
      "outputs": [
        {
          "data": {
            "image/png": "[encoded data removed]",
            "text/plain": [
              "plot without title"
            ]
          },
          "metadata": {
            "image/png": {
              "height": 420,
              "width": 420
            }
          },
          "output_type": "display_data"
        }
      ],
      "source": [
        "set.seed(123)\n",
        "\n",
        "# Use iris numeric features\n",
        "X <- as.matrix(iris[, 1:4])\n",
        "\n",
        "# 1) UMAP (2D embedding)\n",
        "umap_res <- umap::umap(X)\n",
        "emb <- as.data.frame(umap_res$layout)\n",
        "colnames(emb) <- c(\"UMAP1\",\"UMAP2\")\n",
        "\n",
        "# 2) DBSCAN clustering on embedding (eps, minPts can be tweaked)\n",
        "db <- dbscan::dbscan(emb, eps = 0.6, minPts = 5)\n",
        "emb$cluster <- factor(db$cluster)  # 0 = noise\n",
        "\n",
        "# 3) Plot clusters (ggplot)\n",
        "ggplot(emb, aes(UMAP1, UMAP2, color = cluster)) +\n",
        "  geom_point(size = 2) +\n",
        "  labs(title = \"UMAP + DBSCAN on iris\", color = \"cluster\")\n"
      ]
    },
    {
      "cell_type": "markdown",
      "metadata": {
        "id": "3X1BtiryfYk9"
      },
      "source": [
        "# **Vectorization & the apply Family**\n",
        "\n",
        "Write fast, vectorized code and use apply/lapply/sapply for matrices/lists."
      ]
    },
    {
      "cell_type": "code",
      "execution_count": 114,
      "metadata": {
        "id": "PTdJqNkvfWa8",
        "vscode": {
          "languageId": "r"
        }
      },
      "outputs": [
        {
          "data": {
            "text/html": [
              "<style>\n",
              ".list-inline {list-style: none; margin:0; padding: 0}\n",
              ".list-inline>li {display: inline-block}\n",
              ".list-inline>li:not(:last-child)::after {content: \"\\00b7\"; padding: 0 .5ex}\n",
              "</style>\n",
              "<ol class=list-inline><li>4</li><li>7</li><li>10</li><li>13</li><li>16</li><li>19</li><li>22</li><li>25</li><li>28</li><li>31</li></ol>\n"
            ],
            "text/latex": [
              "\\begin{enumerate*}\n",
              "\\item 4\n",
              "\\item 7\n",
              "\\item 10\n",
              "\\item 13\n",
              "\\item 16\n",
              "\\item 19\n",
              "\\item 22\n",
              "\\item 25\n",
              "\\item 28\n",
              "\\item 31\n",
              "\\end{enumerate*}\n"
            ],
            "text/markdown": [
              "1. 4\n",
              "2. 7\n",
              "3. 10\n",
              "4. 13\n",
              "5. 16\n",
              "6. 19\n",
              "7. 22\n",
              "8. 25\n",
              "9. 28\n",
              "10. 31\n",
              "\n",
              "\n"
            ],
            "text/plain": [
              " [1]  4  7 10 13 16 19 22 25 28 31"
            ]
          },
          "metadata": {},
          "output_type": "display_data"
        },
        {
          "data": {
            "text/html": [
              "<style>\n",
              ".list-inline {list-style: none; margin:0; padding: 0}\n",
              ".list-inline>li {display: inline-block}\n",
              ".list-inline>li:not(:last-child)::after {content: \"\\00b7\"; padding: 0 .5ex}\n",
              "</style>\n",
              "<ol class=list-inline><li>22</li><li>26</li><li>30</li></ol>\n"
            ],
            "text/latex": [
              "\\begin{enumerate*}\n",
              "\\item 22\n",
              "\\item 26\n",
              "\\item 30\n",
              "\\end{enumerate*}\n"
            ],
            "text/markdown": [
              "1. 22\n",
              "2. 26\n",
              "3. 30\n",
              "\n",
              "\n"
            ],
            "text/plain": [
              "[1] 22 26 30"
            ]
          },
          "metadata": {},
          "output_type": "display_data"
        },
        {
          "data": {
            "text/html": [
              "<style>\n",
              ".list-inline {list-style: none; margin:0; padding: 0}\n",
              ".list-inline>li {display: inline-block}\n",
              ".list-inline>li:not(:last-child)::after {content: \"\\00b7\"; padding: 0 .5ex}\n",
              "</style>\n",
              "<ol class=list-inline><li>2</li><li>5</li><li>8</li><li>11</li></ol>\n"
            ],
            "text/latex": [
              "\\begin{enumerate*}\n",
              "\\item 2\n",
              "\\item 5\n",
              "\\item 8\n",
              "\\item 11\n",
              "\\end{enumerate*}\n"
            ],
            "text/markdown": [
              "1. 2\n",
              "2. 5\n",
              "3. 8\n",
              "4. 11\n",
              "\n",
              "\n"
            ],
            "text/plain": [
              "[1]  2  5  8 11"
            ]
          },
          "metadata": {},
          "output_type": "display_data"
        }
      ],
      "source": [
        "# Vectorization demo\n",
        "v <- 1:10\n",
        "v2 <- v * 3 + 1\n",
        "v2\n",
        "\n",
        "# apply over matrix rows/cols\n",
        "m <- matrix(1:12, nrow = 3)\n",
        "row_sums <- apply(m, 1, sum)\n",
        "col_means <- apply(m, 2, mean)\n",
        "row_sums; col_means\n"
      ]
    },
    {
      "cell_type": "code",
      "execution_count": 115,
      "metadata": {
        "id": "Wh9Auvwyfi54",
        "vscode": {
          "languageId": "r"
        }
      },
      "outputs": [
        {
          "data": {
            "text/html": [
              "<table class=\"dataframe\">\n",
              "<caption>A matrix: 5 × 5 of type int</caption>\n",
              "<tbody>\n",
              "\t<tr><td> 1</td><td> 2</td><td> 3</td><td> 4</td><td> 5</td></tr>\n",
              "\t<tr><td> 6</td><td> 7</td><td> 8</td><td> 9</td><td>10</td></tr>\n",
              "\t<tr><td>11</td><td>12</td><td>13</td><td>14</td><td>15</td></tr>\n",
              "\t<tr><td>16</td><td>17</td><td>18</td><td>19</td><td>20</td></tr>\n",
              "\t<tr><td>21</td><td>22</td><td>23</td><td>24</td><td>25</td></tr>\n",
              "</tbody>\n",
              "</table>\n"
            ],
            "text/latex": [
              "A matrix: 5 × 5 of type int\n",
              "\\begin{tabular}{lllll}\n",
              "\t  1 &  2 &  3 &  4 &  5\\\\\n",
              "\t  6 &  7 &  8 &  9 & 10\\\\\n",
              "\t 11 & 12 & 13 & 14 & 15\\\\\n",
              "\t 16 & 17 & 18 & 19 & 20\\\\\n",
              "\t 21 & 22 & 23 & 24 & 25\\\\\n",
              "\\end{tabular}\n"
            ],
            "text/markdown": [
              "\n",
              "A matrix: 5 × 5 of type int\n",
              "\n",
              "|  1 |  2 |  3 |  4 |  5 |\n",
              "|  6 |  7 |  8 |  9 | 10 |\n",
              "| 11 | 12 | 13 | 14 | 15 |\n",
              "| 16 | 17 | 18 | 19 | 20 |\n",
              "| 21 | 22 | 23 | 24 | 25 |\n",
              "\n"
            ],
            "text/plain": [
              "     [,1] [,2] [,3] [,4] [,5]\n",
              "[1,]  1    2    3    4    5  \n",
              "[2,]  6    7    8    9   10  \n",
              "[3,] 11   12   13   14   15  \n",
              "[4,] 16   17   18   19   20  \n",
              "[5,] 21   22   23   24   25  "
            ]
          },
          "metadata": {},
          "output_type": "display_data"
        },
        {
          "data": {
            "text/html": [
              "<style>\n",
              ".list-inline {list-style: none; margin:0; padding: 0}\n",
              ".list-inline>li {display: inline-block}\n",
              ".list-inline>li:not(:last-child)::after {content: \"\\00b7\"; padding: 0 .5ex}\n",
              "</style>\n",
              "<ol class=list-inline><li>3</li><li>8</li><li>13</li><li>18</li><li>23</li></ol>\n"
            ],
            "text/latex": [
              "\\begin{enumerate*}\n",
              "\\item 3\n",
              "\\item 8\n",
              "\\item 13\n",
              "\\item 18\n",
              "\\item 23\n",
              "\\end{enumerate*}\n"
            ],
            "text/markdown": [
              "1. 3\n",
              "2. 8\n",
              "3. 13\n",
              "4. 18\n",
              "5. 23\n",
              "\n",
              "\n"
            ],
            "text/plain": [
              "[1]  3  8 13 18 23"
            ]
          },
          "metadata": {},
          "output_type": "display_data"
        },
        {
          "data": {
            "text/html": [
              "<style>\n",
              ".list-inline {list-style: none; margin:0; padding: 0}\n",
              ".list-inline>li {display: inline-block}\n",
              ".list-inline>li:not(:last-child)::after {content: \"\\00b7\"; padding: 0 .5ex}\n",
              "</style>\n",
              "<ol class=list-inline><li>21</li><li>22</li><li>23</li><li>24</li><li>25</li></ol>\n"
            ],
            "text/latex": [
              "\\begin{enumerate*}\n",
              "\\item 21\n",
              "\\item 22\n",
              "\\item 23\n",
              "\\item 24\n",
              "\\item 25\n",
              "\\end{enumerate*}\n"
            ],
            "text/markdown": [
              "1. 21\n",
              "2. 22\n",
              "3. 23\n",
              "4. 24\n",
              "5. 25\n",
              "\n",
              "\n"
            ],
            "text/plain": [
              "[1] 21 22 23 24 25"
            ]
          },
          "metadata": {},
          "output_type": "display_data"
        },
        {
          "data": {
            "text/html": [
              "<table class=\"dataframe\">\n",
              "<caption>A matrix: 5 × 5 of type dbl</caption>\n",
              "<tbody>\n",
              "\t<tr><td> 2</td><td> 4</td><td> 6</td><td> 8</td><td>10</td></tr>\n",
              "\t<tr><td>12</td><td>14</td><td>16</td><td>18</td><td>20</td></tr>\n",
              "\t<tr><td>22</td><td>24</td><td>26</td><td>28</td><td>30</td></tr>\n",
              "\t<tr><td>32</td><td>34</td><td>36</td><td>38</td><td>40</td></tr>\n",
              "\t<tr><td>42</td><td>44</td><td>46</td><td>48</td><td>50</td></tr>\n",
              "</tbody>\n",
              "</table>\n"
            ],
            "text/latex": [
              "A matrix: 5 × 5 of type dbl\n",
              "\\begin{tabular}{lllll}\n",
              "\t  2 &  4 &  6 &  8 & 10\\\\\n",
              "\t 12 & 14 & 16 & 18 & 20\\\\\n",
              "\t 22 & 24 & 26 & 28 & 30\\\\\n",
              "\t 32 & 34 & 36 & 38 & 40\\\\\n",
              "\t 42 & 44 & 46 & 48 & 50\\\\\n",
              "\\end{tabular}\n"
            ],
            "text/markdown": [
              "\n",
              "A matrix: 5 × 5 of type dbl\n",
              "\n",
              "|  2 |  4 |  6 |  8 | 10 |\n",
              "| 12 | 14 | 16 | 18 | 20 |\n",
              "| 22 | 24 | 26 | 28 | 30 |\n",
              "| 32 | 34 | 36 | 38 | 40 |\n",
              "| 42 | 44 | 46 | 48 | 50 |\n",
              "\n"
            ],
            "text/plain": [
              "     [,1] [,2] [,3] [,4] [,5]\n",
              "[1,]  2    4    6    8   10  \n",
              "[2,] 12   14   16   18   20  \n",
              "[3,] 22   24   26   28   30  \n",
              "[4,] 32   34   36   38   40  \n",
              "[5,] 42   44   46   48   50  "
            ]
          },
          "metadata": {},
          "output_type": "display_data"
        }
      ],
      "source": [
        "m <- matrix(1:25, nrow = 5, ncol = 5, byrow = TRUE)\n",
        "\n",
        "row_means <- apply(m, 1, mean)\n",
        "\n",
        "col_max <- apply(m, 2, max)\n",
        "\n",
        "m2 <- m * 2\n",
        "\n",
        "m\n",
        "row_means\n",
        "col_max\n",
        "m2\n",
        "\n"
      ]
    },
    {
      "cell_type": "markdown",
      "metadata": {
        "id": "92L7uL7Zf0ns"
      },
      "source": [
        "# **Factors & Missing Values (NA)**\n",
        "\n",
        "handle categorical data and NAs."
      ]
    },
    {
      "cell_type": "code",
      "execution_count": 116,
      "metadata": {
        "id": "2lARgO6Hf3hT",
        "vscode": {
          "languageId": "r"
        }
      },
      "outputs": [
        {
          "data": {
            "text/html": [
              "<style>\n",
              ".list-inline {list-style: none; margin:0; padding: 0}\n",
              ".list-inline>li {display: inline-block}\n",
              ".list-inline>li:not(:last-child)::after {content: \"\\00b7\"; padding: 0 .5ex}\n",
              "</style>\n",
              "<ol class=list-inline><li>treated</li><li>control</li><li>treated</li><li>treated</li><li>control</li></ol>\n",
              "\n",
              "<details>\n",
              "\t<summary style=display:list-item;cursor:pointer>\n",
              "\t\t<strong>Levels</strong>:\n",
              "\t</summary>\n",
              "\t<style>\n",
              "\t.list-inline {list-style: none; margin:0; padding: 0}\n",
              "\t.list-inline>li {display: inline-block}\n",
              "\t.list-inline>li:not(:last-child)::after {content: \"\\00b7\"; padding: 0 .5ex}\n",
              "\t</style>\n",
              "\t<ol class=list-inline><li>'control'</li><li>'treated'</li></ol>\n",
              "</details>"
            ],
            "text/latex": [
              "\\begin{enumerate*}\n",
              "\\item treated\n",
              "\\item control\n",
              "\\item treated\n",
              "\\item treated\n",
              "\\item control\n",
              "\\end{enumerate*}\n",
              "\n",
              "\\emph{Levels}: \\begin{enumerate*}\n",
              "\\item 'control'\n",
              "\\item 'treated'\n",
              "\\end{enumerate*}\n"
            ],
            "text/markdown": [
              "1. treated\n",
              "2. control\n",
              "3. treated\n",
              "4. treated\n",
              "5. control\n",
              "\n",
              "\n",
              "\n",
              "**Levels**: 1. 'control'\n",
              "2. 'treated'\n",
              "\n",
              "\n"
            ],
            "text/plain": [
              "[1] treated control treated treated control\n",
              "Levels: control treated"
            ]
          },
          "metadata": {},
          "output_type": "display_data"
        },
        {
          "data": {
            "text/html": [
              "<style>\n",
              ".list-inline {list-style: none; margin:0; padding: 0}\n",
              ".list-inline>li {display: inline-block}\n",
              ".list-inline>li:not(:last-child)::after {content: \"\\00b7\"; padding: 0 .5ex}\n",
              "</style>\n",
              "<ol class=list-inline><li>'control'</li><li>'treated'</li></ol>\n"
            ],
            "text/latex": [
              "\\begin{enumerate*}\n",
              "\\item 'control'\n",
              "\\item 'treated'\n",
              "\\end{enumerate*}\n"
            ],
            "text/markdown": [
              "1. 'control'\n",
              "2. 'treated'\n",
              "\n",
              "\n"
            ],
            "text/plain": [
              "[1] \"control\" \"treated\""
            ]
          },
          "metadata": {},
          "output_type": "display_data"
        },
        {
          "data": {
            "text/html": [
              "2.66666666666667"
            ],
            "text/latex": [
              "2.66666666666667"
            ],
            "text/markdown": [
              "2.66666666666667"
            ],
            "text/plain": [
              "[1] 2.666667"
            ]
          },
          "metadata": {},
          "output_type": "display_data"
        },
        {
          "data": {
            "text/html": [
              "2"
            ],
            "text/latex": [
              "2"
            ],
            "text/markdown": [
              "2"
            ],
            "text/plain": [
              "[1] 2"
            ]
          },
          "metadata": {},
          "output_type": "display_data"
        }
      ],
      "source": [
        "x <- c(\"treated\",\"control\",\"treated\",\"treated\",\"control\")\n",
        "f <- factor(x)\n",
        "f; levels(f)\n",
        "\n",
        "y <- c(1, NA, 3, 4, NA)\n",
        "mean(y, na.rm = TRUE)\n",
        "sum(is.na(y))\n"
      ]
    },
    {
      "cell_type": "code",
      "execution_count": 117,
      "metadata": {
        "id": "KkkXKuxbf4XB",
        "vscode": {
          "languageId": "r"
        }
      },
      "outputs": [
        {
          "data": {
            "text/html": [
              "<style>\n",
              ".list-inline {list-style: none; margin:0; padding: 0}\n",
              ".list-inline>li {display: inline-block}\n",
              ".list-inline>li:not(:last-child)::after {content: \"\\00b7\"; padding: 0 .5ex}\n",
              "</style>\n",
              "<ol class=list-inline><li>'A'</li><li>'B'</li><li>'C'</li></ol>\n"
            ],
            "text/latex": [
              "\\begin{enumerate*}\n",
              "\\item 'A'\n",
              "\\item 'B'\n",
              "\\item 'C'\n",
              "\\end{enumerate*}\n"
            ],
            "text/markdown": [
              "1. 'A'\n",
              "2. 'B'\n",
              "3. 'C'\n",
              "\n",
              "\n"
            ],
            "text/plain": [
              "[1] \"A\" \"B\" \"C\""
            ]
          },
          "metadata": {},
          "output_type": "display_data"
        },
        {
          "data": {
            "text/html": [
              "2"
            ],
            "text/latex": [
              "2"
            ],
            "text/markdown": [
              "2"
            ],
            "text/plain": [
              "[1] 2"
            ]
          },
          "metadata": {},
          "output_type": "display_data"
        }
      ],
      "source": [
        "groups <- c(\"A\", \"B\", \"A\", \"C\", \"B\")\n",
        "\n",
        "groups_factor <- factor(groups)\n",
        "\n",
        "levels(groups_factor)\n",
        "\n",
        "count_B <- sum(groups_factor == \"B\")\n",
        "count_B\n",
        "\n"
      ]
    },
    {
      "cell_type": "markdown",
      "metadata": {
        "id": "5W7P1uWBgg0D"
      },
      "source": [
        "# **Basic Statistics: t-test & Multiple Testing (BH/FDR)**\n",
        "\n",
        "run simple tests and control FDR (like BH in RNA-seq workflows)."
      ]
    },
    {
      "cell_type": "code",
      "execution_count": 118,
      "metadata": {
        "id": "O8xznhQIgj9R",
        "vscode": {
          "languageId": "r"
        }
      },
      "outputs": [
        {
          "data": {
            "text/plain": [
              "\n",
              "\tWelch Two Sample t-test\n",
              "\n",
              "data:  x[grp == \"treated\"] and x[grp == \"control\"]\n",
              "t = 2.9527, df = 13.421, p-value = 0.01089\n",
              "alternative hypothesis: true difference in means is not equal to 0\n",
              "95 percent confidence interval:\n",
              " 0.4630611 2.9584459\n",
              "sample estimates:\n",
              " mean of x  mean of y \n",
              " 1.5472968 -0.1634567 \n"
            ]
          },
          "metadata": {},
          "output_type": "display_data"
        }
      ],
      "source": [
        "set.seed(42)\n",
        "grp <- rep(c(\"treated\",\"control\"), each = 10)\n",
        "x   <- rnorm(20, mean = ifelse(grp==\"treated\", 1, 0), sd = 1)\n",
        "\n",
        "# Two-sample t-test\n",
        "t.test(x[grp==\"treated\"], x[grp==\"control\"])\n"
      ]
    },
    {
      "cell_type": "code",
      "execution_count": 119,
      "metadata": {
        "id": "7Yj5s6jAgnU9",
        "vscode": {
          "languageId": "r"
        }
      },
      "outputs": [
        {
          "data": {
            "text/html": [
              "10"
            ],
            "text/latex": [
              "10"
            ],
            "text/markdown": [
              "10"
            ],
            "text/plain": [
              "[1] 10"
            ]
          },
          "metadata": {},
          "output_type": "display_data"
        }
      ],
      "source": [
        "set.seed(123)\n",
        "\n",
        "n_genes <- 100\n",
        "n_samples <- 10\n",
        "\n",
        "pvals <- numeric(n_genes)\n",
        "\n",
        "for (i in 1:n_genes) {\n",
        "  control <- rnorm(n_samples, mean = 0, sd = 1)\n",
        "  \n",
        "  if (i <= n_genes / 2) {\n",
        "    treated <- rnorm(n_samples, mean = 1, sd = 1)\n",
        "  } else {\n",
        "    treated <- rnorm(n_samples, mean = 0, sd = 1)\n",
        "  }\n",
        "  \n",
        "  test_result <- t.test(treated, control)\n",
        "  \n",
        "  pvals[i] <- test_result$p.value\n",
        "}\n",
        "\n",
        "pvals_adj <- p.adjust(pvals, method = \"BH\")\n",
        "\n",
        "significant_genes <- sum(pvals_adj < 0.05)\n",
        "\n",
        "significant_genes\n",
        "\n"
      ]
    },
    {
      "cell_type": "markdown",
      "metadata": {
        "id": "GFLSNd1pgtQp"
      },
      "source": [
        "# **Correlation, Heatmap, and Clustering**\n",
        "\n",
        "quick QC / similarity checks between samples."
      ]
    },
    {
      "cell_type": "code",
      "execution_count": 120,
      "metadata": {
        "id": "xXGJQug_gs-c",
        "vscode": {
          "languageId": "r"
        }
      },
      "outputs": [],
      "source": [
        "# Build a small expression matrix (genes x samples)\n",
        "set.seed(1)\n",
        "mat <- matrix(rnorm(200), nrow = 20)  # 20 genes, 10 samples\n",
        "colnames(mat) <- paste0(\"S\", 1:10)\n",
        "\n",
        "# Correlation between samples\n",
        "cors <- cor(mat)\n",
        "# Heatmap (base R)\n",
        "# heatmap(cors)\n"
      ]
    },
    {
      "cell_type": "code",
      "execution_count": 121,
      "metadata": {
        "id": "EiknwYuggyjc",
        "vscode": {
          "languageId": "r"
        }
      },
      "outputs": [
        {
          "data": {
            "image/png": "[encoded data removed]",
            "text/plain": [
              "Plot with title \"Hierarchical Clustering of Samples\""
            ]
          },
          "metadata": {
            "image/png": {
              "height": 420,
              "width": 420
            }
          },
          "output_type": "display_data"
        },
        {
          "data": {
            "image/png": "[encoded data removed]",
            "text/plain": [
              "Plot with title \"Sample Correlation Heatmap\""
            ]
          },
          "metadata": {
            "image/png": {
              "height": 420,
              "width": 420
            }
          },
          "output_type": "display_data"
        }
      ],
      "source": [
        "\n",
        "mat_scaled <- t(scale(t(mat)))\n",
        "\n",
        "cors_scaled <- cor(mat_scaled)\n",
        "\n",
        "d <- dist(1 - cors_scaled)\n",
        "hc <- hclust(d)\n",
        "\n",
        "plot(hc, main = \"Hierarchical Clustering of Samples\", xlab = \"Samples\", sub = \"\")\n",
        "\n",
        "heatmap(cors_scaled, main = \"Sample Correlation Heatmap\", col = heat.colors(50))\n",
        "\n"
      ]
    },
    {
      "cell_type": "markdown",
      "metadata": {
        "id": "pO5RMNNIg3z7"
      },
      "source": [
        "# **PCA (Principal Components) with prcomp**\n",
        "\n",
        "dimension reduction for expression matrices."
      ]
    },
    {
      "cell_type": "code",
      "execution_count": 122,
      "metadata": {
        "id": "9p2hgxAug6nk",
        "vscode": {
          "languageId": "r"
        }
      },
      "outputs": [
        {
          "data": {
            "text/html": [
              "<table class=\"dataframe\">\n",
              "<caption>A matrix: 3 × 3 of type dbl</caption>\n",
              "<thead>\n",
              "\t<tr><th></th><th scope=col>PC1</th><th scope=col>PC2</th><th scope=col>PC3</th></tr>\n",
              "</thead>\n",
              "<tbody>\n",
              "\t<tr><th scope=row>Standard deviation</th><td>2.530391</td><td>2.377347</td><td>2.26758</td></tr>\n",
              "\t<tr><th scope=row>Proportion of Variance</th><td>0.213430</td><td>0.188390</td><td>0.17140</td></tr>\n",
              "\t<tr><th scope=row>Cumulative Proportion</th><td>0.213430</td><td>0.401820</td><td>0.57322</td></tr>\n",
              "</tbody>\n",
              "</table>\n"
            ],
            "text/latex": [
              "A matrix: 3 × 3 of type dbl\n",
              "\\begin{tabular}{r|lll}\n",
              "  & PC1 & PC2 & PC3\\\\\n",
              "\\hline\n",
              "\tStandard deviation & 2.530391 & 2.377347 & 2.26758\\\\\n",
              "\tProportion of Variance & 0.213430 & 0.188390 & 0.17140\\\\\n",
              "\tCumulative Proportion & 0.213430 & 0.401820 & 0.57322\\\\\n",
              "\\end{tabular}\n"
            ],
            "text/markdown": [
              "\n",
              "A matrix: 3 × 3 of type dbl\n",
              "\n",
              "| <!--/--> | PC1 | PC2 | PC3 |\n",
              "|---|---|---|---|\n",
              "| Standard deviation | 2.530391 | 2.377347 | 2.26758 |\n",
              "| Proportion of Variance | 0.213430 | 0.188390 | 0.17140 |\n",
              "| Cumulative Proportion | 0.213430 | 0.401820 | 0.57322 |\n",
              "\n"
            ],
            "text/plain": [
              "                       PC1      PC2      PC3    \n",
              "Standard deviation     2.530391 2.377347 2.26758\n",
              "Proportion of Variance 0.213430 0.188390 0.17140\n",
              "Cumulative Proportion  0.213430 0.401820 0.57322"
            ]
          },
          "metadata": {},
          "output_type": "display_data"
        }
      ],
      "source": [
        "set.seed(7)\n",
        "X <- matrix(rnorm(300), nrow = 30)  # 30 genes x 10 samples\n",
        "colnames(X) <- paste0(\"S\", 1:10)\n",
        "\n",
        "# PCA expects samples in rows (or set transpose accordingly)\n",
        "pca <- prcomp(t(X), scale. = TRUE)\n",
        "summary(pca)$importance[ , 1:3]  # variance explained\n"
      ]
    },
    {
      "cell_type": "code",
      "execution_count": 123,
      "metadata": {
        "id": "bbQP5FHMg8a-",
        "vscode": {
          "languageId": "r"
        }
      },
      "outputs": [
        {
          "data": {
            "image/png": "[encoded data removed]",
            "text/plain": [
              "Plot with title \"PCA of Samples\""
            ]
          },
          "metadata": {
            "image/png": {
              "height": 420,
              "width": 420
            }
          },
          "output_type": "display_data"
        }
      ],
      "source": [
        "\n",
        "pca <- prcomp(t(X), scale. = TRUE)\n",
        "\n",
        "pc1 <- pca$x[, 1]\n",
        "pc2 <- pca$x[, 2]\n",
        "\n",
        "plot(pc1, pc2,\n",
        "     xlab = \"PC1\",\n",
        "     ylab = \"PC2\",\n",
        "     main = \"PCA of Samples\",\n",
        "     pch = 19, col = \"blue\")\n",
        "\n",
        "text(pc1, pc2, labels = colnames(X), pos = 3, cex = 0.8)\n",
        "\n"
      ]
    }
  ],
  "metadata": {
    "colab": {
      "provenance": []
    },
    "kernelspec": {
      "display_name": "R",
      "language": "R",
      "name": "ir"
    },
    "language_info": {
      "codemirror_mode": "r",
      "file_extension": ".r",
      "mimetype": "text/x-r-source",
      "name": "R",
      "pygments_lexer": "r",
      "version": "4.5.1"
    }
  },
  "nbformat": 4,
  "nbformat_minor": 0
}
